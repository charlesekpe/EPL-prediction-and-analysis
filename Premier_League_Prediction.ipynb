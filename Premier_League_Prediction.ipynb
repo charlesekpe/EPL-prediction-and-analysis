{
  "nbformat": 4,
  "nbformat_minor": 0,
  "metadata": {
    "colab": {
      "name": "Premier League Prediction.ipynb",
      "provenance": [],
      "collapsed_sections": []
    },
    "kernelspec": {
      "name": "python3",
      "display_name": "Python 3"
    },
    "language_info": {
      "name": "python"
    }
  },
  "cells": [
    {
      "cell_type": "code",
      "source": [
        "import pandas as pd\n",
        "import numpy as np\n",
        "import tensorflow as tf\n",
        "from tensorflow import keras\n",
        "from urllib.request import urlopen\n",
        "from sklearn.preprocessing import OrdinalEncoder, StandardScaler\n",
        "from sklearn.model_selection import train_test_split, cross_val_score, GridSearchCV\n",
        "from keras.wrappers.scikit_learn import KerasClassifier"
      ],
      "metadata": {
        "id": "l5EfNuusN9Pe"
      },
      "execution_count": 1,
      "outputs": []
    },
    {
      "cell_type": "code",
      "source": [
        "epl20 = pd.read_csv(\"https://www.football-data.co.uk/mmz4281/1920/E0.csv\")\n",
        "epl21 = pd.read_csv(\"https://www.football-data.co.uk/mmz4281/2021/E0.csv\")\n",
        "epl22 = pd.read_csv(\"https://www.football-data.co.uk/mmz4281/2122/E0.csv\")\n",
        "\n",
        "columns = urlopen(\"https://www.football-data.co.uk/notes.txt\") "
      ],
      "metadata": {
        "id": "XYZDAqKR9enw"
      },
      "execution_count": 2,
      "outputs": []
    },
    {
      "cell_type": "code",
      "source": [
        "usable = ['HomeTeam', 'AwayTeam', 'FTR', 'FTHG', 'FTAG', 'HS', 'AS', 'HST', 'AST', 'HF', 'AF', 'HC', 'AC']"
      ],
      "metadata": {
        "id": "npYgXPj41VAa"
      },
      "execution_count": 3,
      "outputs": []
    },
    {
      "cell_type": "code",
      "source": [
        "def form_guide(x, team):\n",
        "  result = []\n",
        "  if x.FTR == 'H' and x.HomeTeam == team:\n",
        "    result.append(3)\n",
        "  elif x.AwayTeam == team and x.FTR == 'A':\n",
        "    result.append(3)\n",
        "  elif x.FTR == 'D':\n",
        "    result.append(1)\n",
        "  else:\n",
        "    result.append(0)\n",
        "  return sum(result)\n",
        "\n",
        "def shots(x, team):\n",
        "  if x.HomeTeam == team:\n",
        "    return x.HS\n",
        "  if x.AwayTeam == team:\n",
        "    return x.AS\n",
        "\n",
        "def shots_ot(x, team):\n",
        "  if x.HomeTeam == team:\n",
        "    return x.HST\n",
        "  if x.AwayTeam == team:\n",
        "    return x.AST\n",
        "\n",
        "def corners(x, team):\n",
        "  if x.HomeTeam == team:\n",
        "    return x.HC\n",
        "  if x.AwayTeam == team:\n",
        "    return x.AC\n",
        "\n",
        "def goals_sc(x, team):\n",
        "  if x.HomeTeam == team:\n",
        "    return x.FTHG\n",
        "  if x.AwayTeam == team:\n",
        "    return x.FTAG\n",
        "\n",
        "def goals_con(x, team):\n",
        "  if x.HomeTeam == team:\n",
        "    return x.FTAG\n",
        "  if x.AwayTeam == team:\n",
        "    return x.FTHG"
      ],
      "metadata": {
        "id": "IXKNHD6Zbe0_"
      },
      "execution_count": 4,
      "outputs": []
    },
    {
      "cell_type": "code",
      "source": [
        "def clean_data(epl):\n",
        "  df = epl[['HomeTeam', 'AwayTeam', 'FTR']]\n",
        "  for team in epl.HomeTeam.unique():\n",
        "    team_data = pd.concat([epl[epl.HomeTeam == team], epl[epl.AwayTeam == team]]).sort_index().reset_index()\n",
        "    team_data['Points'] = team_data.apply(lambda x: form_guide(x, team), axis =1)\n",
        "    team_data['Form'] = team_data.apply(lambda x: sum(team_data['Points'][x.name-4:x.name]), axis=1)\n",
        "    team_data['Total_Points'] = team_data['Points'].shift().cumsum()\n",
        "\n",
        "    team_data['Shots'] = team_data.apply(lambda x: shots(x, team), axis=1).shift().cumsum()\n",
        "    team_data['Shots_On_Target'] = team_data.apply(lambda x: shots_ot(x, team), axis=1).shift().cumsum()\n",
        "\n",
        "    team_data['Corners'] = team_data.apply(lambda x: corners(x, team), axis=1).shift().cumsum()\n",
        "\n",
        "    team_data['Goals_Scored'] = team_data.apply(lambda x: goals_sc(x, team), axis=1).shift().cumsum()\n",
        "\n",
        "    team_data['Goals_Conceded'] = team_data.apply(lambda x: goals_con(x, team), axis=1).shift().cumsum()\n",
        "    team_data.fillna(0, inplace=True)\n",
        "\n",
        "    home = team_data.groupby('HomeTeam').get_group(team).set_index('index')\n",
        "    away = team_data.groupby('AwayTeam').get_group(team).set_index('index')\n",
        "\n",
        "    df.loc[home.index, 'HF'] = home['Form']\n",
        "    df.loc[away.index, 'AF'] = away['Form']\n",
        "\n",
        "    df.loc[home.index, 'HP'] = home['Total_Points']\n",
        "    df.loc[away.index, 'AP'] = away['Total_Points']\n",
        "\n",
        "    df.loc[home.index, 'HGS'] = home['Goals_Scored']\n",
        "    df.loc[away.index, 'AGS'] = away['Goals_Scored']\n",
        "\n",
        "    df.loc[home.index, 'HS'] = home['Shots']\n",
        "    df.loc[away.index, 'AS'] = away['Shots']\n",
        "\n",
        "    df.loc[home.index, 'HST'] = home['Shots_On_Target']\n",
        "    df.loc[away.index, 'AST'] = away['Shots_On_Target']\n",
        "\n",
        "    df.loc[home.index, 'HGC'] = home['Goals_Conceded']\n",
        "    df.loc[away.index, 'AGC'] = away['Goals_Conceded']\n",
        "\n",
        "    df.loc[home.index, 'HC'] = home['Corners']\n",
        "    df.loc[away.index, 'AC'] = away['Corners']\n",
        "\n",
        "  return df"
      ],
      "metadata": {
        "id": "nxKW3FwtWtAS"
      },
      "execution_count": 5,
      "outputs": []
    },
    {
      "cell_type": "code",
      "source": [
        "df1 = clean_data(epl20[usable])"
      ],
      "metadata": {
        "id": "ccHALrrpzIFn",
        "colab": {
          "base_uri": "https://localhost:8080/"
        },
        "outputId": "017e3477-c78a-4dc9-a422-ac65d713ac01"
      },
      "execution_count": 6,
      "outputs": [
        {
          "output_type": "stream",
          "name": "stderr",
          "text": [
            "/usr/local/lib/python3.7/dist-packages/pandas/core/indexing.py:1596: SettingWithCopyWarning: \n",
            "A value is trying to be set on a copy of a slice from a DataFrame.\n",
            "Try using .loc[row_indexer,col_indexer] = value instead\n",
            "\n",
            "See the caveats in the documentation: https://pandas.pydata.org/pandas-docs/stable/user_guide/indexing.html#returning-a-view-versus-a-copy\n",
            "  self.obj[key] = _infer_fill_value(value)\n",
            "/usr/local/lib/python3.7/dist-packages/pandas/core/indexing.py:1743: SettingWithCopyWarning: \n",
            "A value is trying to be set on a copy of a slice from a DataFrame.\n",
            "Try using .loc[row_indexer,col_indexer] = value instead\n",
            "\n",
            "See the caveats in the documentation: https://pandas.pydata.org/pandas-docs/stable/user_guide/indexing.html#returning-a-view-versus-a-copy\n",
            "  isetter(ilocs[0], value)\n"
          ]
        }
      ]
    },
    {
      "cell_type": "code",
      "source": [
        "numerical_cols = [cname for cname in df1.columns if df1[cname].dtype in ['Int64', 'float64']]\n",
        "\n",
        "scal = StandardScaler()\n",
        "scal.fit(df1[numerical_cols])\n",
        "df1[numerical_cols] = scal.transform(df1[numerical_cols])"
      ],
      "metadata": {
        "id": "t7XwoAXjJJh-",
        "colab": {
          "base_uri": "https://localhost:8080/"
        },
        "outputId": "f014685e-cc7c-42ab-cbdb-4cce065d1dce"
      },
      "execution_count": 8,
      "outputs": [
        {
          "output_type": "stream",
          "name": "stderr",
          "text": [
            "/usr/local/lib/python3.7/dist-packages/ipykernel_launcher.py:1: DeprecationWarning: Numeric-style type codes are deprecated and will result in an error in the future.\n",
            "  \"\"\"Entry point for launching an IPython kernel.\n"
          ]
        }
      ]
    },
    {
      "cell_type": "code",
      "source": [
        "enc = OrdinalEncoder()\n",
        "enc.fit(df1[['HomeTeam']])\n",
        "enc.categories_"
      ],
      "metadata": {
        "id": "2H7AMbUpIRsz",
        "colab": {
          "base_uri": "https://localhost:8080/"
        },
        "outputId": "0770c157-aed4-43b2-f10c-e05d11fc84ce"
      },
      "execution_count": 9,
      "outputs": [
        {
          "output_type": "execute_result",
          "data": {
            "text/plain": [
              "[array(['Arsenal', 'Aston Villa', 'Bournemouth', 'Brighton', 'Burnley',\n",
              "        'Chelsea', 'Crystal Palace', 'Everton', 'Leicester', 'Liverpool',\n",
              "        'Man City', 'Man United', 'Newcastle', 'Norwich',\n",
              "        'Sheffield United', 'Southampton', 'Tottenham', 'Watford',\n",
              "        'West Ham', 'Wolves'], dtype=object)]"
            ]
          },
          "metadata": {},
          "execution_count": 9
        }
      ]
    },
    {
      "cell_type": "code",
      "source": [
        "df1.HomeTeam = enc.transform(df1[['HomeTeam']])\n",
        "df1.AwayTeam = enc.transform(df1[['AwayTeam']])"
      ],
      "metadata": {
        "colab": {
          "base_uri": "https://localhost:8080/"
        },
        "id": "Q6Nn1BUrEezZ",
        "outputId": "65444f17-4fc3-444b-fee0-5c09dfe9b910"
      },
      "execution_count": 10,
      "outputs": [
        {
          "output_type": "stream",
          "name": "stderr",
          "text": [
            "/usr/local/lib/python3.7/dist-packages/sklearn/base.py:488: FutureWarning: The feature names should match those that were passed during fit. Starting version 1.2, an error will be raised.\n",
            "Feature names unseen at fit time:\n",
            "- AwayTeam\n",
            "Feature names seen at fit time, yet now missing:\n",
            "- HomeTeam\n",
            "\n",
            "  warnings.warn(message, FutureWarning)\n"
          ]
        }
      ]
    },
    {
      "cell_type": "code",
      "source": [
        "enc_ftr = OrdinalEncoder()\n",
        "enc_ftr.fit(df1[['FTR']])\n",
        "enc_ftr.categories_"
      ],
      "metadata": {
        "id": "92Ig07qIFxc3",
        "colab": {
          "base_uri": "https://localhost:8080/"
        },
        "outputId": "8c80b2fb-40f2-4e3d-86d2-0aac45ff3898"
      },
      "execution_count": 11,
      "outputs": [
        {
          "output_type": "execute_result",
          "data": {
            "text/plain": [
              "[array(['A', 'D', 'H'], dtype=object)]"
            ]
          },
          "metadata": {},
          "execution_count": 11
        }
      ]
    },
    {
      "cell_type": "code",
      "source": [
        "df1['FTR'] = enc_ftr.transform(df1[['FTR']])"
      ],
      "metadata": {
        "id": "Am9teLyUoYML"
      },
      "execution_count": 12,
      "outputs": []
    },
    {
      "cell_type": "code",
      "source": [
        "X = np.asarray(df1.drop(['FTR'], axis=1)).astype(np.float32)\n",
        "y = np.asarray(df1.FTR).astype(np.float32)"
      ],
      "metadata": {
        "id": "CEAEn6ruCF-t"
      },
      "execution_count": 13,
      "outputs": []
    },
    {
      "cell_type": "code",
      "source": [
        "X_train, X_valid, y_train, y_valid = X[30:], X[:30], y[30:], y[:30] #train_test_split(X, y, test_size=0.2)"
      ],
      "metadata": {
        "id": "-0Gs12n6Mt7-"
      },
      "execution_count": 14,
      "outputs": []
    },
    {
      "cell_type": "code",
      "source": [
        "model = keras.Sequential([\n",
        "                          keras.layers.Input(shape=X_train.shape[1:]),\n",
        "                          keras.layers.Dense(300, activation='relu'),\n",
        "                          keras.layers.Dense(100, activation='relu'),\n",
        "                          keras.layers.Dense(50, activation='relu'),\n",
        "                          keras.layers.Dense(3, activation='softmax')                          \n",
        "])\n",
        "model.compile(optimizer='adam', loss='sparse_categorical_crossentropy', metrics=['accuracy'])\n",
        "\n",
        "[print(i.shape, i.dtype) for i in model.inputs]\n",
        "[print(o.shape, o.dtype) for o in model.outputs]\n",
        "[print(l.name, l.input_shape, l.dtype) for l in model.layers]\n",
        "\n",
        "hist = model.fit(X_train, y_train, epochs=20, validation_data=(X_valid, y_valid))\n"
      ],
      "metadata": {
        "id": "LCWdPXPnMRN5",
        "colab": {
          "base_uri": "https://localhost:8080/"
        },
        "outputId": "793a52d7-2f25-400c-d0c6-6e15defb3be9"
      },
      "execution_count": 15,
      "outputs": [
        {
          "output_type": "stream",
          "name": "stdout",
          "text": [
            "(None, 16) <dtype: 'float32'>\n",
            "(None, 3) <dtype: 'float32'>\n",
            "dense (None, 16) float32\n",
            "dense_1 (None, 300) float32\n",
            "dense_2 (None, 100) float32\n",
            "dense_3 (None, 50) float32\n",
            "Epoch 1/20\n",
            "11/11 [==============================] - 1s 22ms/step - loss: 1.1168 - accuracy: 0.3943 - val_loss: 1.1107 - val_accuracy: 0.3000\n",
            "Epoch 2/20\n",
            "11/11 [==============================] - 0s 5ms/step - loss: 1.0286 - accuracy: 0.4886 - val_loss: 1.1352 - val_accuracy: 0.3333\n",
            "Epoch 3/20\n",
            "11/11 [==============================] - 0s 5ms/step - loss: 1.0103 - accuracy: 0.5143 - val_loss: 1.1440 - val_accuracy: 0.3667\n",
            "Epoch 4/20\n",
            "11/11 [==============================] - 0s 5ms/step - loss: 0.9923 - accuracy: 0.5114 - val_loss: 1.0845 - val_accuracy: 0.4667\n",
            "Epoch 5/20\n",
            "11/11 [==============================] - 0s 4ms/step - loss: 0.9777 - accuracy: 0.5143 - val_loss: 1.1822 - val_accuracy: 0.4000\n",
            "Epoch 6/20\n",
            "11/11 [==============================] - 0s 4ms/step - loss: 0.9846 - accuracy: 0.5086 - val_loss: 1.2635 - val_accuracy: 0.3333\n",
            "Epoch 7/20\n",
            "11/11 [==============================] - 0s 4ms/step - loss: 0.9440 - accuracy: 0.5486 - val_loss: 1.2389 - val_accuracy: 0.3667\n",
            "Epoch 8/20\n",
            "11/11 [==============================] - 0s 4ms/step - loss: 0.9327 - accuracy: 0.5457 - val_loss: 1.2395 - val_accuracy: 0.4000\n",
            "Epoch 9/20\n",
            "11/11 [==============================] - 0s 4ms/step - loss: 0.9247 - accuracy: 0.5514 - val_loss: 1.2704 - val_accuracy: 0.3667\n",
            "Epoch 10/20\n",
            "11/11 [==============================] - 0s 4ms/step - loss: 0.9603 - accuracy: 0.5314 - val_loss: 1.1959 - val_accuracy: 0.4667\n",
            "Epoch 11/20\n",
            "11/11 [==============================] - 0s 6ms/step - loss: 0.9274 - accuracy: 0.5543 - val_loss: 1.2345 - val_accuracy: 0.4333\n",
            "Epoch 12/20\n",
            "11/11 [==============================] - 0s 4ms/step - loss: 0.9173 - accuracy: 0.5514 - val_loss: 1.3280 - val_accuracy: 0.3667\n",
            "Epoch 13/20\n",
            "11/11 [==============================] - 0s 5ms/step - loss: 0.9068 - accuracy: 0.5486 - val_loss: 1.2029 - val_accuracy: 0.3333\n",
            "Epoch 14/20\n",
            "11/11 [==============================] - 0s 4ms/step - loss: 0.8929 - accuracy: 0.5771 - val_loss: 1.3436 - val_accuracy: 0.3667\n",
            "Epoch 15/20\n",
            "11/11 [==============================] - 0s 4ms/step - loss: 0.9084 - accuracy: 0.5657 - val_loss: 1.4002 - val_accuracy: 0.3667\n",
            "Epoch 16/20\n",
            "11/11 [==============================] - 0s 4ms/step - loss: 0.8707 - accuracy: 0.6000 - val_loss: 1.3584 - val_accuracy: 0.3667\n",
            "Epoch 17/20\n",
            "11/11 [==============================] - 0s 4ms/step - loss: 0.8509 - accuracy: 0.5943 - val_loss: 1.4329 - val_accuracy: 0.4000\n",
            "Epoch 18/20\n",
            "11/11 [==============================] - 0s 4ms/step - loss: 0.8830 - accuracy: 0.5714 - val_loss: 1.2770 - val_accuracy: 0.3667\n",
            "Epoch 19/20\n",
            "11/11 [==============================] - 0s 4ms/step - loss: 0.8717 - accuracy: 0.5829 - val_loss: 1.3195 - val_accuracy: 0.3333\n",
            "Epoch 20/20\n",
            "11/11 [==============================] - 0s 4ms/step - loss: 0.8656 - accuracy: 0.6171 - val_loss: 1.4819 - val_accuracy: 0.3667\n"
          ]
        }
      ]
    },
    {
      "cell_type": "markdown",
      "source": [
        "USING GRID SEARCH TO FINE THE BEST HYPER PARAMETERS"
      ],
      "metadata": {
        "id": "RWt3TALKzQAn"
      }
    },
    {
      "cell_type": "code",
      "source": [
        "def create_model(activation='relu', optimizer='adam'):\n",
        "  # create model\n",
        "  model = keras.models.Sequential()\n",
        "  model.add(keras.layers.Input(shape=X_train.shape[1:]))\n",
        "  model.add(keras.layers.Dense(300, activation=activation))\n",
        "  model.add(keras.layers.Dense(100, activation=activation))\n",
        "  model.add(keras.layers.Dense(50, activation='relu'))\n",
        "  model.add(keras.layers.Dense(3, activation='softmax'))\n",
        "\n",
        "  # Compile model\n",
        "  model.compile(loss='sparse_categorical_crossentropy', optimizer=optimizer, metrics=['accuracy'])\n",
        "  return model\n",
        "search_model = KerasClassifier(build_fn=create_model, epochs=20)"
      ],
      "metadata": {
        "colab": {
          "base_uri": "https://localhost:8080/"
        },
        "id": "Hu4YN-C21jLJ",
        "outputId": "c3452459-e572-4a83-9660-d6adb281be0d"
      },
      "execution_count": 16,
      "outputs": [
        {
          "output_type": "stream",
          "name": "stderr",
          "text": [
            "/usr/local/lib/python3.7/dist-packages/ipykernel_launcher.py:13: DeprecationWarning: KerasClassifier is deprecated, use Sci-Keras (https://github.com/adriangb/scikeras) instead.\n",
            "  del sys.path[0]\n"
          ]
        }
      ]
    },
    {
      "cell_type": "code",
      "source": [
        "optimizer = ['SGD', 'RMSprop', 'Adagrad', 'Adadelta', 'Adam', 'Adamax', 'Nadam']\n",
        "activation = ['softmax', 'softplus', 'softsign', 'relu', 'tanh', 'sigmoid', 'hard_sigmoid', 'linear']\n",
        "\n",
        "param_grid = dict(optimizer=optimizer, activation=activation)\n",
        "\n",
        "grid = GridSearchCV(estimator=search_model, param_grid=param_grid, n_jobs=-1, cv=3)\n",
        "grid_result = grid.fit(X, y)\n",
        "\n"
      ],
      "metadata": {
        "colab": {
          "base_uri": "https://localhost:8080/"
        },
        "id": "br3ufhvmzO4p",
        "outputId": "b2ba37be-90d6-4c9a-e3bd-c15a6d593977"
      },
      "execution_count": 17,
      "outputs": [
        {
          "output_type": "stream",
          "name": "stdout",
          "text": [
            "Epoch 1/20\n",
            "12/12 [==============================] - 0s 3ms/step - loss: 1.1204 - accuracy: 0.4079\n",
            "Epoch 2/20\n",
            "12/12 [==============================] - 0s 3ms/step - loss: 1.0719 - accuracy: 0.4526\n",
            "Epoch 3/20\n",
            "12/12 [==============================] - 0s 3ms/step - loss: 1.0627 - accuracy: 0.4526\n",
            "Epoch 4/20\n",
            "12/12 [==============================] - 0s 3ms/step - loss: 1.0530 - accuracy: 0.4526\n",
            "Epoch 5/20\n",
            "12/12 [==============================] - 0s 3ms/step - loss: 1.0650 - accuracy: 0.4526\n",
            "Epoch 6/20\n",
            "12/12 [==============================] - 0s 3ms/step - loss: 1.0566 - accuracy: 0.4553\n",
            "Epoch 7/20\n",
            "12/12 [==============================] - 0s 3ms/step - loss: 1.0491 - accuracy: 0.4684\n",
            "Epoch 8/20\n",
            "12/12 [==============================] - 0s 3ms/step - loss: 1.0479 - accuracy: 0.4658\n",
            "Epoch 9/20\n",
            "12/12 [==============================] - 0s 3ms/step - loss: 1.0326 - accuracy: 0.4579\n",
            "Epoch 10/20\n",
            "12/12 [==============================] - 0s 3ms/step - loss: 1.0285 - accuracy: 0.4632\n",
            "Epoch 11/20\n",
            "12/12 [==============================] - 0s 3ms/step - loss: 1.0315 - accuracy: 0.4895\n",
            "Epoch 12/20\n",
            "12/12 [==============================] - 0s 3ms/step - loss: 1.0254 - accuracy: 0.4974\n",
            "Epoch 13/20\n",
            "12/12 [==============================] - 0s 3ms/step - loss: 1.0162 - accuracy: 0.5079\n",
            "Epoch 14/20\n",
            "12/12 [==============================] - 0s 3ms/step - loss: 1.0122 - accuracy: 0.5053\n",
            "Epoch 15/20\n",
            "12/12 [==============================] - 0s 4ms/step - loss: 1.0059 - accuracy: 0.5079\n",
            "Epoch 16/20\n",
            "12/12 [==============================] - 0s 3ms/step - loss: 1.0185 - accuracy: 0.4974\n",
            "Epoch 17/20\n",
            "12/12 [==============================] - 0s 3ms/step - loss: 1.0182 - accuracy: 0.4868\n",
            "Epoch 18/20\n",
            "12/12 [==============================] - 0s 3ms/step - loss: 1.0114 - accuracy: 0.5053\n",
            "Epoch 19/20\n",
            "12/12 [==============================] - 0s 3ms/step - loss: 1.0095 - accuracy: 0.5053\n",
            "Epoch 20/20\n",
            "12/12 [==============================] - 0s 3ms/step - loss: 1.0096 - accuracy: 0.4789\n"
          ]
        }
      ]
    },
    {
      "cell_type": "code",
      "source": [
        "print(\"Best: %f using %s\" % (grid_result.best_score_, grid_result.best_params_))\n",
        "means = grid_result.cv_results_['mean_test_score']\n",
        "stds = grid_result.cv_results_['std_test_score']\n",
        "params = grid_result.cv_results_['params']\n",
        "for mean, stdev, param in zip(means, stds, params):\n",
        "    print(\"%f (%f) with: %r\" % (mean, stdev, param))\n"
      ],
      "metadata": {
        "colab": {
          "base_uri": "https://localhost:8080/"
        },
        "id": "g2HQjkk85aTu",
        "outputId": "7b298e21-c7e5-430c-cb2f-fc455160d121"
      },
      "execution_count": 18,
      "outputs": [
        {
          "output_type": "stream",
          "name": "stdout",
          "text": [
            "Best: 0.487043 using {'activation': 'hard_sigmoid', 'optimizer': 'Adam'}\n",
            "0.452756 (0.033561) with: {'activation': 'softmax', 'optimizer': 'SGD'}\n",
            "0.452756 (0.033561) with: {'activation': 'softmax', 'optimizer': 'RMSprop'}\n",
            "0.452756 (0.033561) with: {'activation': 'softmax', 'optimizer': 'Adagrad'}\n",
            "0.305233 (0.008798) with: {'activation': 'softmax', 'optimizer': 'Adadelta'}\n",
            "0.452756 (0.033561) with: {'activation': 'softmax', 'optimizer': 'Adam'}\n",
            "0.452756 (0.033561) with: {'activation': 'softmax', 'optimizer': 'Adamax'}\n",
            "0.452756 (0.033561) with: {'activation': 'softmax', 'optimizer': 'Nadam'}\n",
            "0.413407 (0.086338) with: {'activation': 'softplus', 'optimizer': 'SGD'}\n",
            "0.447611 (0.079145) with: {'activation': 'softplus', 'optimizer': 'RMSprop'}\n",
            "0.458130 (0.063360) with: {'activation': 'softplus', 'optimizer': 'Adagrad'}\n",
            "0.328855 (0.074973) with: {'activation': 'softplus', 'optimizer': 'Adadelta'}\n",
            "0.397450 (0.041649) with: {'activation': 'softplus', 'optimizer': 'Adam'}\n",
            "0.452798 (0.053163) with: {'activation': 'softplus', 'optimizer': 'Adamax'}\n",
            "0.426384 (0.020759) with: {'activation': 'softplus', 'optimizer': 'Nadam'}\n",
            "0.397429 (0.016409) with: {'activation': 'softsign', 'optimizer': 'SGD'}\n",
            "0.378973 (0.042373) with: {'activation': 'softsign', 'optimizer': 'RMSprop'}\n",
            "0.418427 (0.012953) with: {'activation': 'softsign', 'optimizer': 'Adagrad'}\n",
            "0.355331 (0.028889) with: {'activation': 'softsign', 'optimizer': 'Adadelta'}\n",
            "0.370995 (0.027271) with: {'activation': 'softsign', 'optimizer': 'Adam'}\n",
            "0.426447 (0.043572) with: {'activation': 'softsign', 'optimizer': 'Adamax'}\n",
            "0.373703 (0.026222) with: {'activation': 'softsign', 'optimizer': 'Nadam'}\n",
            "0.429196 (0.075671) with: {'activation': 'relu', 'optimizer': 'SGD'}\n",
            "0.389326 (0.044041) with: {'activation': 'relu', 'optimizer': 'RMSprop'}\n",
            "0.418427 (0.001561) with: {'activation': 'relu', 'optimizer': 'Adagrad'}\n",
            "0.349873 (0.087316) with: {'activation': 'relu', 'optimizer': 'Adadelta'}\n",
            "0.328813 (0.038310) with: {'activation': 'relu', 'optimizer': 'Adam'}\n",
            "0.373662 (0.020219) with: {'activation': 'relu', 'optimizer': 'Adamax'}\n",
            "0.318294 (0.037844) with: {'activation': 'relu', 'optimizer': 'Nadam'}\n",
            "0.418635 (0.057534) with: {'activation': 'tanh', 'optimizer': 'SGD'}\n",
            "0.399908 (0.024628) with: {'activation': 'tanh', 'optimizer': 'RMSprop'}\n",
            "0.426509 (0.054395) with: {'activation': 'tanh', 'optimizer': 'Adagrad'}\n",
            "0.352914 (0.078356) with: {'activation': 'tanh', 'optimizer': 'Adadelta'}\n",
            "0.341957 (0.040286) with: {'activation': 'tanh', 'optimizer': 'Adam'}\n",
            "0.392034 (0.021361) with: {'activation': 'tanh', 'optimizer': 'Adamax'}\n",
            "0.381681 (0.064083) with: {'activation': 'tanh', 'optimizer': 'Nadam'}\n",
            "0.452756 (0.033561) with: {'activation': 'sigmoid', 'optimizer': 'SGD'}\n",
            "0.410470 (0.038512) with: {'activation': 'sigmoid', 'optimizer': 'RMSprop'}\n",
            "0.452756 (0.033561) with: {'activation': 'sigmoid', 'optimizer': 'Adagrad'}\n",
            "0.452756 (0.033561) with: {'activation': 'sigmoid', 'optimizer': 'Adadelta'}\n",
            "0.452777 (0.046719) with: {'activation': 'sigmoid', 'optimizer': 'Adam'}\n",
            "0.460713 (0.050638) with: {'activation': 'sigmoid', 'optimizer': 'Adamax'}\n",
            "0.442257 (0.041954) with: {'activation': 'sigmoid', 'optimizer': 'Nadam'}\n",
            "0.452756 (0.033561) with: {'activation': 'hard_sigmoid', 'optimizer': 'SGD'}\n",
            "0.442361 (0.068816) with: {'activation': 'hard_sigmoid', 'optimizer': 'RMSprop'}\n",
            "0.452756 (0.033561) with: {'activation': 'hard_sigmoid', 'optimizer': 'Adagrad'}\n",
            "0.350331 (0.091797) with: {'activation': 'hard_sigmoid', 'optimizer': 'Adadelta'}\n",
            "0.487043 (0.055566) with: {'activation': 'hard_sigmoid', 'optimizer': 'Adam'}\n",
            "0.455401 (0.037287) with: {'activation': 'hard_sigmoid', 'optimizer': 'Adamax'}\n",
            "0.452839 (0.060162) with: {'activation': 'hard_sigmoid', 'optimizer': 'Nadam'}\n",
            "0.344603 (0.048284) with: {'activation': 'linear', 'optimizer': 'SGD'}\n",
            "0.344561 (0.048942) with: {'activation': 'linear', 'optimizer': 'RMSprop'}\n",
            "0.368621 (0.066050) with: {'activation': 'linear', 'optimizer': 'Adagrad'}\n",
            "0.294776 (0.024801) with: {'activation': 'linear', 'optimizer': 'Adadelta'}\n",
            "0.392138 (0.008926) with: {'activation': 'linear', 'optimizer': 'Adam'}\n",
            "0.444653 (0.024567) with: {'activation': 'linear', 'optimizer': 'Adamax'}\n",
            "0.400283 (0.085338) with: {'activation': 'linear', 'optimizer': 'Nadam'}\n"
          ]
        }
      ]
    },
    {
      "cell_type": "code",
      "source": [
        "hist_search = grid.best_estimator_.fit(X_train, y_train, epochs=20, validation_data=(X_valid, y_valid))"
      ],
      "metadata": {
        "colab": {
          "base_uri": "https://localhost:8080/"
        },
        "id": "YIjGmp367xes",
        "outputId": "a9501f92-dae9-47e2-9c37-04e0789b57f4"
      },
      "execution_count": 19,
      "outputs": [
        {
          "output_type": "stream",
          "name": "stdout",
          "text": [
            "Epoch 1/20\n",
            "11/11 [==============================] - 1s 18ms/step - loss: 1.1202 - accuracy: 0.3971 - val_loss: 1.1148 - val_accuracy: 0.3333\n",
            "Epoch 2/20\n",
            "11/11 [==============================] - 0s 5ms/step - loss: 1.0655 - accuracy: 0.4629 - val_loss: 1.1435 - val_accuracy: 0.3333\n",
            "Epoch 3/20\n",
            "11/11 [==============================] - 0s 5ms/step - loss: 1.0693 - accuracy: 0.4629 - val_loss: 1.1320 - val_accuracy: 0.3333\n",
            "Epoch 4/20\n",
            "11/11 [==============================] - 0s 4ms/step - loss: 1.0591 - accuracy: 0.4629 - val_loss: 1.1226 - val_accuracy: 0.3333\n",
            "Epoch 5/20\n",
            "11/11 [==============================] - 0s 4ms/step - loss: 1.0614 - accuracy: 0.4629 - val_loss: 1.1376 - val_accuracy: 0.3333\n",
            "Epoch 6/20\n",
            "11/11 [==============================] - 0s 5ms/step - loss: 1.0607 - accuracy: 0.4686 - val_loss: 1.1080 - val_accuracy: 0.3333\n",
            "Epoch 7/20\n",
            "11/11 [==============================] - 0s 4ms/step - loss: 1.0461 - accuracy: 0.4657 - val_loss: 1.1605 - val_accuracy: 0.3333\n",
            "Epoch 8/20\n",
            "11/11 [==============================] - 0s 5ms/step - loss: 1.0460 - accuracy: 0.4657 - val_loss: 1.1228 - val_accuracy: 0.3333\n",
            "Epoch 9/20\n",
            "11/11 [==============================] - 0s 4ms/step - loss: 1.0353 - accuracy: 0.4743 - val_loss: 1.1143 - val_accuracy: 0.3333\n",
            "Epoch 10/20\n",
            "11/11 [==============================] - 0s 5ms/step - loss: 1.0362 - accuracy: 0.4771 - val_loss: 1.1478 - val_accuracy: 0.3333\n",
            "Epoch 11/20\n",
            "11/11 [==============================] - 0s 5ms/step - loss: 1.0338 - accuracy: 0.4914 - val_loss: 1.1359 - val_accuracy: 0.3333\n",
            "Epoch 12/20\n",
            "11/11 [==============================] - 0s 6ms/step - loss: 1.0357 - accuracy: 0.4800 - val_loss: 1.1233 - val_accuracy: 0.3333\n",
            "Epoch 13/20\n",
            "11/11 [==============================] - 0s 4ms/step - loss: 1.0158 - accuracy: 0.5057 - val_loss: 1.1329 - val_accuracy: 0.3333\n",
            "Epoch 14/20\n",
            "11/11 [==============================] - 0s 4ms/step - loss: 1.0077 - accuracy: 0.4914 - val_loss: 1.1110 - val_accuracy: 0.3333\n",
            "Epoch 15/20\n",
            "11/11 [==============================] - 0s 5ms/step - loss: 1.0089 - accuracy: 0.5143 - val_loss: 1.1671 - val_accuracy: 0.3333\n",
            "Epoch 16/20\n",
            "11/11 [==============================] - 0s 5ms/step - loss: 1.0034 - accuracy: 0.5200 - val_loss: 1.1021 - val_accuracy: 0.3000\n",
            "Epoch 17/20\n",
            "11/11 [==============================] - 0s 5ms/step - loss: 0.9985 - accuracy: 0.5229 - val_loss: 1.1128 - val_accuracy: 0.3333\n",
            "Epoch 18/20\n",
            "11/11 [==============================] - 0s 5ms/step - loss: 0.9956 - accuracy: 0.5229 - val_loss: 1.1058 - val_accuracy: 0.3333\n",
            "Epoch 19/20\n",
            "11/11 [==============================] - 0s 4ms/step - loss: 1.0086 - accuracy: 0.5029 - val_loss: 1.1641 - val_accuracy: 0.3333\n",
            "Epoch 20/20\n",
            "11/11 [==============================] - 0s 5ms/step - loss: 1.0061 - accuracy: 0.5000 - val_loss: 1.0984 - val_accuracy: 0.3333\n"
          ]
        }
      ]
    },
    {
      "cell_type": "code",
      "source": [
        "from sklearn.svm import SVC\n",
        "from sklearn.ensemble import RandomForestClassifier\n",
        "from xgboost import XGBClassifier"
      ],
      "metadata": {
        "id": "owBpjCviNE-8"
      },
      "execution_count": 20,
      "outputs": []
    },
    {
      "cell_type": "code",
      "source": [
        "rfc = RandomForestClassifier(n_estimators=50)\n",
        "xgbc = XGBClassifier(max_depth=5)\n",
        "svc = SVC(C=0.1)\n",
        "acc = cross_val_score(rfc, X, y, cv=5)\n",
        "acc2 = cross_val_score(xgbc, X, y, cv=5)\n",
        "acc3 = cross_val_score(svc, X, y, cv=5)\n",
        "print('Accuracy score for Random Forest Classifier, XGB Classifier, Support Vector Machines, respectively:\\n', acc.mean(), acc2.mean(), acc3.mean())"
      ],
      "metadata": {
        "id": "s6L7abOeOnCL",
        "colab": {
          "base_uri": "https://localhost:8080/"
        },
        "outputId": "66c03443-cd61-49e2-f293-007830f9188d"
      },
      "execution_count": 21,
      "outputs": [
        {
          "output_type": "stream",
          "name": "stdout",
          "text": [
            "Accuracy score for Random Forest Classifier, XGB Classifier, Support Vector Machines, respectively:\n",
            " 0.4184210526315789 0.45 0.4526315789473684\n"
          ]
        }
      ]
    },
    {
      "cell_type": "markdown",
      "source": [
        "TRAINING USING 2021 DATA"
      ],
      "metadata": {
        "id": "3Nn47wGm_2mR"
      }
    },
    {
      "cell_type": "code",
      "source": [
        "df2 = clean_data(epl21[usable])"
      ],
      "metadata": {
        "colab": {
          "base_uri": "https://localhost:8080/"
        },
        "id": "4qcy5TjE2y4g",
        "outputId": "49e3a4a6-78ff-4d32-dd3c-ff6cbd953af6"
      },
      "execution_count": 22,
      "outputs": [
        {
          "output_type": "stream",
          "name": "stderr",
          "text": [
            "/usr/local/lib/python3.7/dist-packages/pandas/core/indexing.py:1596: SettingWithCopyWarning: \n",
            "A value is trying to be set on a copy of a slice from a DataFrame.\n",
            "Try using .loc[row_indexer,col_indexer] = value instead\n",
            "\n",
            "See the caveats in the documentation: https://pandas.pydata.org/pandas-docs/stable/user_guide/indexing.html#returning-a-view-versus-a-copy\n",
            "  self.obj[key] = _infer_fill_value(value)\n",
            "/usr/local/lib/python3.7/dist-packages/pandas/core/indexing.py:1743: SettingWithCopyWarning: \n",
            "A value is trying to be set on a copy of a slice from a DataFrame.\n",
            "Try using .loc[row_indexer,col_indexer] = value instead\n",
            "\n",
            "See the caveats in the documentation: https://pandas.pydata.org/pandas-docs/stable/user_guide/indexing.html#returning-a-view-versus-a-copy\n",
            "  isetter(ilocs[0], value)\n"
          ]
        }
      ]
    },
    {
      "cell_type": "code",
      "source": [
        "numerical_cols = [cname for cname in df2.columns if df2[cname].dtype in ['Int64', 'float64']]\n",
        "\n",
        "df2[numerical_cols] = scal.transform(df2[numerical_cols])"
      ],
      "metadata": {
        "id": "YyM9MBMWO_FX",
        "colab": {
          "base_uri": "https://localhost:8080/"
        },
        "outputId": "3deb221a-2b4a-4311-ede7-b63b03b5fca1"
      },
      "execution_count": 23,
      "outputs": [
        {
          "output_type": "stream",
          "name": "stderr",
          "text": [
            "/usr/local/lib/python3.7/dist-packages/ipykernel_launcher.py:1: DeprecationWarning: Numeric-style type codes are deprecated and will result in an error in the future.\n",
            "  \"\"\"Entry point for launching an IPython kernel.\n"
          ]
        }
      ]
    },
    {
      "cell_type": "code",
      "source": [
        "df2['FTR'] = enc_ftr.fit_transform(df2[['FTR']])"
      ],
      "metadata": {
        "id": "UO9C_6kC5N-5"
      },
      "execution_count": 24,
      "outputs": []
    },
    {
      "cell_type": "code",
      "source": [
        "cat = enc.categories_[0]\n",
        "cat = np.append(cat, list(set(df2.HomeTeam.unique())-set(cat)))\n",
        "\n",
        "enc.categories_ = [cat]"
      ],
      "metadata": {
        "id": "BglxWPp4dlG0"
      },
      "execution_count": 25,
      "outputs": []
    },
    {
      "cell_type": "code",
      "source": [
        "df2['HomeTeam'] = enc.transform(df2[['HomeTeam']])\n",
        "df2.AwayTeam = enc.transform(df2[['AwayTeam']])"
      ],
      "metadata": {
        "id": "dFxVa_vUlTkr",
        "colab": {
          "base_uri": "https://localhost:8080/"
        },
        "outputId": "9b413ea6-b6ff-4e6f-d3f7-09c80d19a1f1"
      },
      "execution_count": 26,
      "outputs": [
        {
          "output_type": "stream",
          "name": "stderr",
          "text": [
            "/usr/local/lib/python3.7/dist-packages/sklearn/base.py:488: FutureWarning: The feature names should match those that were passed during fit. Starting version 1.2, an error will be raised.\n",
            "Feature names unseen at fit time:\n",
            "- AwayTeam\n",
            "Feature names seen at fit time, yet now missing:\n",
            "- HomeTeam\n",
            "\n",
            "  warnings.warn(message, FutureWarning)\n"
          ]
        }
      ]
    },
    {
      "cell_type": "code",
      "source": [
        "df2"
      ],
      "metadata": {
        "colab": {
          "base_uri": "https://localhost:8080/",
          "height": 488
        },
        "id": "Nbph2PXBpKaz",
        "outputId": "d28936c2-5935-4e40-cf97-3d692731c2f5"
      },
      "execution_count": 27,
      "outputs": [
        {
          "output_type": "execute_result",
          "data": {
            "text/html": [
              "\n",
              "  <div id=\"df-b6843999-51ea-4753-93f3-027307b016a2\">\n",
              "    <div class=\"colab-df-container\">\n",
              "      <div>\n",
              "<style scoped>\n",
              "    .dataframe tbody tr th:only-of-type {\n",
              "        vertical-align: middle;\n",
              "    }\n",
              "\n",
              "    .dataframe tbody tr th {\n",
              "        vertical-align: top;\n",
              "    }\n",
              "\n",
              "    .dataframe thead th {\n",
              "        text-align: right;\n",
              "    }\n",
              "</style>\n",
              "<table border=\"1\" class=\"dataframe\">\n",
              "  <thead>\n",
              "    <tr style=\"text-align: right;\">\n",
              "      <th></th>\n",
              "      <th>HomeTeam</th>\n",
              "      <th>AwayTeam</th>\n",
              "      <th>FTR</th>\n",
              "      <th>HF</th>\n",
              "      <th>AF</th>\n",
              "      <th>HP</th>\n",
              "      <th>AP</th>\n",
              "      <th>HGS</th>\n",
              "      <th>AGS</th>\n",
              "      <th>HS</th>\n",
              "      <th>AS</th>\n",
              "      <th>HST</th>\n",
              "      <th>AST</th>\n",
              "      <th>HGC</th>\n",
              "      <th>AGC</th>\n",
              "      <th>HC</th>\n",
              "      <th>AC</th>\n",
              "    </tr>\n",
              "  </thead>\n",
              "  <tbody>\n",
              "    <tr>\n",
              "      <th>0</th>\n",
              "      <td>20.0</td>\n",
              "      <td>0.0</td>\n",
              "      <td>0.0</td>\n",
              "      <td>-1.476994</td>\n",
              "      <td>-1.589112</td>\n",
              "      <td>-1.392658</td>\n",
              "      <td>-1.384595</td>\n",
              "      <td>-1.420253</td>\n",
              "      <td>-1.421259</td>\n",
              "      <td>-1.589575</td>\n",
              "      <td>-1.599375</td>\n",
              "      <td>-1.534867</td>\n",
              "      <td>-1.534737</td>\n",
              "      <td>-1.561275</td>\n",
              "      <td>-1.564071</td>\n",
              "      <td>-1.592491</td>\n",
              "      <td>-1.606730</td>\n",
              "    </tr>\n",
              "    <tr>\n",
              "      <th>1</th>\n",
              "      <td>6.0</td>\n",
              "      <td>15.0</td>\n",
              "      <td>2.0</td>\n",
              "      <td>-1.476994</td>\n",
              "      <td>-1.589112</td>\n",
              "      <td>-1.392658</td>\n",
              "      <td>-1.384595</td>\n",
              "      <td>-1.420253</td>\n",
              "      <td>-1.421259</td>\n",
              "      <td>-1.589575</td>\n",
              "      <td>-1.599375</td>\n",
              "      <td>-1.534867</td>\n",
              "      <td>-1.534737</td>\n",
              "      <td>-1.561275</td>\n",
              "      <td>-1.564071</td>\n",
              "      <td>-1.592491</td>\n",
              "      <td>-1.606730</td>\n",
              "    </tr>\n",
              "    <tr>\n",
              "      <th>2</th>\n",
              "      <td>9.0</td>\n",
              "      <td>22.0</td>\n",
              "      <td>2.0</td>\n",
              "      <td>-1.476994</td>\n",
              "      <td>-1.589112</td>\n",
              "      <td>-1.392658</td>\n",
              "      <td>-1.384595</td>\n",
              "      <td>-1.420253</td>\n",
              "      <td>-1.421259</td>\n",
              "      <td>-1.589575</td>\n",
              "      <td>-1.599375</td>\n",
              "      <td>-1.534867</td>\n",
              "      <td>-1.534737</td>\n",
              "      <td>-1.561275</td>\n",
              "      <td>-1.564071</td>\n",
              "      <td>-1.592491</td>\n",
              "      <td>-1.606730</td>\n",
              "    </tr>\n",
              "    <tr>\n",
              "      <th>3</th>\n",
              "      <td>18.0</td>\n",
              "      <td>12.0</td>\n",
              "      <td>0.0</td>\n",
              "      <td>-1.476994</td>\n",
              "      <td>-1.589112</td>\n",
              "      <td>-1.392658</td>\n",
              "      <td>-1.384595</td>\n",
              "      <td>-1.420253</td>\n",
              "      <td>-1.421259</td>\n",
              "      <td>-1.589575</td>\n",
              "      <td>-1.599375</td>\n",
              "      <td>-1.534867</td>\n",
              "      <td>-1.534737</td>\n",
              "      <td>-1.561275</td>\n",
              "      <td>-1.564071</td>\n",
              "      <td>-1.592491</td>\n",
              "      <td>-1.606730</td>\n",
              "    </tr>\n",
              "    <tr>\n",
              "      <th>4</th>\n",
              "      <td>21.0</td>\n",
              "      <td>8.0</td>\n",
              "      <td>0.0</td>\n",
              "      <td>-1.476994</td>\n",
              "      <td>-1.589112</td>\n",
              "      <td>-1.392658</td>\n",
              "      <td>-1.384595</td>\n",
              "      <td>-1.420253</td>\n",
              "      <td>-1.421259</td>\n",
              "      <td>-1.589575</td>\n",
              "      <td>-1.599375</td>\n",
              "      <td>-1.534867</td>\n",
              "      <td>-1.534737</td>\n",
              "      <td>-1.561275</td>\n",
              "      <td>-1.564071</td>\n",
              "      <td>-1.592491</td>\n",
              "      <td>-1.606730</td>\n",
              "    </tr>\n",
              "    <tr>\n",
              "      <th>...</th>\n",
              "      <td>...</td>\n",
              "      <td>...</td>\n",
              "      <td>...</td>\n",
              "      <td>...</td>\n",
              "      <td>...</td>\n",
              "      <td>...</td>\n",
              "      <td>...</td>\n",
              "      <td>...</td>\n",
              "      <td>...</td>\n",
              "      <td>...</td>\n",
              "      <td>...</td>\n",
              "      <td>...</td>\n",
              "      <td>...</td>\n",
              "      <td>...</td>\n",
              "      <td>...</td>\n",
              "      <td>...</td>\n",
              "      <td>...</td>\n",
              "    </tr>\n",
              "    <tr>\n",
              "      <th>375</th>\n",
              "      <td>9.0</td>\n",
              "      <td>6.0</td>\n",
              "      <td>2.0</td>\n",
              "      <td>2.277238</td>\n",
              "      <td>0.261335</td>\n",
              "      <td>2.248695</td>\n",
              "      <td>0.993466</td>\n",
              "      <td>2.258733</td>\n",
              "      <td>0.845887</td>\n",
              "      <td>2.436619</td>\n",
              "      <td>0.757489</td>\n",
              "      <td>2.433203</td>\n",
              "      <td>0.868534</td>\n",
              "      <td>0.989442</td>\n",
              "      <td>2.367527</td>\n",
              "      <td>2.318142</td>\n",
              "      <td>0.789116</td>\n",
              "    </tr>\n",
              "    <tr>\n",
              "      <th>376</th>\n",
              "      <td>10.0</td>\n",
              "      <td>7.0</td>\n",
              "      <td>2.0</td>\n",
              "      <td>0.400122</td>\n",
              "      <td>0.569743</td>\n",
              "      <td>3.186620</td>\n",
              "      <td>1.804169</td>\n",
              "      <td>2.927640</td>\n",
              "      <td>1.177665</td>\n",
              "      <td>2.395605</td>\n",
              "      <td>1.086353</td>\n",
              "      <td>2.414218</td>\n",
              "      <td>1.209155</td>\n",
              "      <td>0.382128</td>\n",
              "      <td>1.077471</td>\n",
              "      <td>2.222760</td>\n",
              "      <td>0.980783</td>\n",
              "    </tr>\n",
              "    <tr>\n",
              "      <th>377</th>\n",
              "      <td>14.0</td>\n",
              "      <td>4.0</td>\n",
              "      <td>2.0</td>\n",
              "      <td>-0.538436</td>\n",
              "      <td>-0.663888</td>\n",
              "      <td>-0.289218</td>\n",
              "      <td>0.723232</td>\n",
              "      <td>-0.361151</td>\n",
              "      <td>0.403517</td>\n",
              "      <td>0.549981</td>\n",
              "      <td>0.963029</td>\n",
              "      <td>0.287788</td>\n",
              "      <td>0.868534</td>\n",
              "      <td>2.264800</td>\n",
              "      <td>1.753215</td>\n",
              "      <td>0.998701</td>\n",
              "      <td>0.996756</td>\n",
              "    </tr>\n",
              "    <tr>\n",
              "      <th>378</th>\n",
              "      <td>18.0</td>\n",
              "      <td>15.0</td>\n",
              "      <td>2.0</td>\n",
              "      <td>0.712975</td>\n",
              "      <td>0.261335</td>\n",
              "      <td>2.028007</td>\n",
              "      <td>0.939420</td>\n",
              "      <td>1.868538</td>\n",
              "      <td>1.177665</td>\n",
              "      <td>1.513807</td>\n",
              "      <td>1.182272</td>\n",
              "      <td>1.464918</td>\n",
              "      <td>1.511930</td>\n",
              "      <td>1.293098</td>\n",
              "      <td>2.428958</td>\n",
              "      <td>1.046391</td>\n",
              "      <td>1.188423</td>\n",
              "    </tr>\n",
              "    <tr>\n",
              "      <th>379</th>\n",
              "      <td>19.0</td>\n",
              "      <td>11.0</td>\n",
              "      <td>0.0</td>\n",
              "      <td>-0.225583</td>\n",
              "      <td>-0.355481</td>\n",
              "      <td>1.090083</td>\n",
              "      <td>2.452731</td>\n",
              "      <td>0.530725</td>\n",
              "      <td>2.504775</td>\n",
              "      <td>1.472793</td>\n",
              "      <td>1.908515</td>\n",
              "      <td>1.313031</td>\n",
              "      <td>2.401329</td>\n",
              "      <td>1.475292</td>\n",
              "      <td>1.077471</td>\n",
              "      <td>1.634576</td>\n",
              "      <td>1.507869</td>\n",
              "    </tr>\n",
              "  </tbody>\n",
              "</table>\n",
              "<p>380 rows × 17 columns</p>\n",
              "</div>\n",
              "      <button class=\"colab-df-convert\" onclick=\"convertToInteractive('df-b6843999-51ea-4753-93f3-027307b016a2')\"\n",
              "              title=\"Convert this dataframe to an interactive table.\"\n",
              "              style=\"display:none;\">\n",
              "        \n",
              "  <svg xmlns=\"http://www.w3.org/2000/svg\" height=\"24px\"viewBox=\"0 0 24 24\"\n",
              "       width=\"24px\">\n",
              "    <path d=\"M0 0h24v24H0V0z\" fill=\"none\"/>\n",
              "    <path d=\"M18.56 5.44l.94 2.06.94-2.06 2.06-.94-2.06-.94-.94-2.06-.94 2.06-2.06.94zm-11 1L8.5 8.5l.94-2.06 2.06-.94-2.06-.94L8.5 2.5l-.94 2.06-2.06.94zm10 10l.94 2.06.94-2.06 2.06-.94-2.06-.94-.94-2.06-.94 2.06-2.06.94z\"/><path d=\"M17.41 7.96l-1.37-1.37c-.4-.4-.92-.59-1.43-.59-.52 0-1.04.2-1.43.59L10.3 9.45l-7.72 7.72c-.78.78-.78 2.05 0 2.83L4 21.41c.39.39.9.59 1.41.59.51 0 1.02-.2 1.41-.59l7.78-7.78 2.81-2.81c.8-.78.8-2.07 0-2.86zM5.41 20L4 18.59l7.72-7.72 1.47 1.35L5.41 20z\"/>\n",
              "  </svg>\n",
              "      </button>\n",
              "      \n",
              "  <style>\n",
              "    .colab-df-container {\n",
              "      display:flex;\n",
              "      flex-wrap:wrap;\n",
              "      gap: 12px;\n",
              "    }\n",
              "\n",
              "    .colab-df-convert {\n",
              "      background-color: #E8F0FE;\n",
              "      border: none;\n",
              "      border-radius: 50%;\n",
              "      cursor: pointer;\n",
              "      display: none;\n",
              "      fill: #1967D2;\n",
              "      height: 32px;\n",
              "      padding: 0 0 0 0;\n",
              "      width: 32px;\n",
              "    }\n",
              "\n",
              "    .colab-df-convert:hover {\n",
              "      background-color: #E2EBFA;\n",
              "      box-shadow: 0px 1px 2px rgba(60, 64, 67, 0.3), 0px 1px 3px 1px rgba(60, 64, 67, 0.15);\n",
              "      fill: #174EA6;\n",
              "    }\n",
              "\n",
              "    [theme=dark] .colab-df-convert {\n",
              "      background-color: #3B4455;\n",
              "      fill: #D2E3FC;\n",
              "    }\n",
              "\n",
              "    [theme=dark] .colab-df-convert:hover {\n",
              "      background-color: #434B5C;\n",
              "      box-shadow: 0px 1px 3px 1px rgba(0, 0, 0, 0.15);\n",
              "      filter: drop-shadow(0px 1px 2px rgba(0, 0, 0, 0.3));\n",
              "      fill: #FFFFFF;\n",
              "    }\n",
              "  </style>\n",
              "\n",
              "      <script>\n",
              "        const buttonEl =\n",
              "          document.querySelector('#df-b6843999-51ea-4753-93f3-027307b016a2 button.colab-df-convert');\n",
              "        buttonEl.style.display =\n",
              "          google.colab.kernel.accessAllowed ? 'block' : 'none';\n",
              "\n",
              "        async function convertToInteractive(key) {\n",
              "          const element = document.querySelector('#df-b6843999-51ea-4753-93f3-027307b016a2');\n",
              "          const dataTable =\n",
              "            await google.colab.kernel.invokeFunction('convertToInteractive',\n",
              "                                                     [key], {});\n",
              "          if (!dataTable) return;\n",
              "\n",
              "          const docLinkHtml = 'Like what you see? Visit the ' +\n",
              "            '<a target=\"_blank\" href=https://colab.research.google.com/notebooks/data_table.ipynb>data table notebook</a>'\n",
              "            + ' to learn more about interactive tables.';\n",
              "          element.innerHTML = '';\n",
              "          dataTable['output_type'] = 'display_data';\n",
              "          await google.colab.output.renderOutput(dataTable, element);\n",
              "          const docLink = document.createElement('div');\n",
              "          docLink.innerHTML = docLinkHtml;\n",
              "          element.appendChild(docLink);\n",
              "        }\n",
              "      </script>\n",
              "    </div>\n",
              "  </div>\n",
              "  "
            ],
            "text/plain": [
              "     HomeTeam  AwayTeam  FTR        HF  ...       HGC       AGC        HC        AC\n",
              "0        20.0       0.0  0.0 -1.476994  ... -1.561275 -1.564071 -1.592491 -1.606730\n",
              "1         6.0      15.0  2.0 -1.476994  ... -1.561275 -1.564071 -1.592491 -1.606730\n",
              "2         9.0      22.0  2.0 -1.476994  ... -1.561275 -1.564071 -1.592491 -1.606730\n",
              "3        18.0      12.0  0.0 -1.476994  ... -1.561275 -1.564071 -1.592491 -1.606730\n",
              "4        21.0       8.0  0.0 -1.476994  ... -1.561275 -1.564071 -1.592491 -1.606730\n",
              "..        ...       ...  ...       ...  ...       ...       ...       ...       ...\n",
              "375       9.0       6.0  2.0  2.277238  ...  0.989442  2.367527  2.318142  0.789116\n",
              "376      10.0       7.0  2.0  0.400122  ...  0.382128  1.077471  2.222760  0.980783\n",
              "377      14.0       4.0  2.0 -0.538436  ...  2.264800  1.753215  0.998701  0.996756\n",
              "378      18.0      15.0  2.0  0.712975  ...  1.293098  2.428958  1.046391  1.188423\n",
              "379      19.0      11.0  0.0 -0.225583  ...  1.475292  1.077471  1.634576  1.507869\n",
              "\n",
              "[380 rows x 17 columns]"
            ]
          },
          "metadata": {},
          "execution_count": 27
        }
      ]
    },
    {
      "cell_type": "code",
      "source": [
        "X1 = np.asarray(df2.drop(['FTR'], axis=1)).astype(np.float32)\n",
        "y1 = np.asarray(df2.FTR).astype(np.float32)  "
      ],
      "metadata": {
        "id": "CeLMdEkqpOrr"
      },
      "execution_count": 28,
      "outputs": []
    },
    {
      "cell_type": "code",
      "source": [
        "X_train1, X_valid1, y_train1, y_valid1 = train_test_split(X1, y1, test_size=0.2)"
      ],
      "metadata": {
        "id": "7fDtr9mNqP9S"
      },
      "execution_count": 29,
      "outputs": []
    },
    {
      "cell_type": "code",
      "source": [
        "#model.add(keras.layers.Dropout(0.2))\n",
        "hist1 = model.fit(X_train1, y_train1, epochs=20, validation_data=(X_valid1, y_valid1))"
      ],
      "metadata": {
        "colab": {
          "base_uri": "https://localhost:8080/"
        },
        "id": "C3HuSiWrsD5j",
        "outputId": "0b86a8d6-7a36-4888-a3ec-83ff02725afb"
      },
      "execution_count": 30,
      "outputs": [
        {
          "output_type": "stream",
          "name": "stdout",
          "text": [
            "Epoch 1/20\n",
            "10/10 [==============================] - 0s 10ms/step - loss: 1.1073 - accuracy: 0.4605 - val_loss: 1.3192 - val_accuracy: 0.3684\n",
            "Epoch 2/20\n",
            "10/10 [==============================] - 0s 5ms/step - loss: 1.0271 - accuracy: 0.4967 - val_loss: 1.1280 - val_accuracy: 0.3816\n",
            "Epoch 3/20\n",
            "10/10 [==============================] - 0s 5ms/step - loss: 0.9914 - accuracy: 0.5197 - val_loss: 1.1551 - val_accuracy: 0.4211\n",
            "Epoch 4/20\n",
            "10/10 [==============================] - 0s 5ms/step - loss: 0.9605 - accuracy: 0.5197 - val_loss: 1.1237 - val_accuracy: 0.4474\n",
            "Epoch 5/20\n",
            "10/10 [==============================] - 0s 5ms/step - loss: 0.9483 - accuracy: 0.5461 - val_loss: 1.1239 - val_accuracy: 0.4211\n",
            "Epoch 6/20\n",
            "10/10 [==============================] - 0s 7ms/step - loss: 0.9193 - accuracy: 0.5395 - val_loss: 1.1700 - val_accuracy: 0.4342\n",
            "Epoch 7/20\n",
            "10/10 [==============================] - 0s 7ms/step - loss: 0.9218 - accuracy: 0.5395 - val_loss: 1.1105 - val_accuracy: 0.4211\n",
            "Epoch 8/20\n",
            "10/10 [==============================] - 0s 7ms/step - loss: 0.9081 - accuracy: 0.5888 - val_loss: 1.1593 - val_accuracy: 0.4474\n",
            "Epoch 9/20\n",
            "10/10 [==============================] - 0s 5ms/step - loss: 0.9202 - accuracy: 0.5658 - val_loss: 1.1380 - val_accuracy: 0.4342\n",
            "Epoch 10/20\n",
            "10/10 [==============================] - 0s 5ms/step - loss: 0.9023 - accuracy: 0.5691 - val_loss: 1.1667 - val_accuracy: 0.4342\n",
            "Epoch 11/20\n",
            "10/10 [==============================] - 0s 5ms/step - loss: 0.8868 - accuracy: 0.5789 - val_loss: 1.1292 - val_accuracy: 0.4342\n",
            "Epoch 12/20\n",
            "10/10 [==============================] - 0s 5ms/step - loss: 0.8521 - accuracy: 0.6020 - val_loss: 1.1210 - val_accuracy: 0.4605\n",
            "Epoch 13/20\n",
            "10/10 [==============================] - 0s 5ms/step - loss: 0.8476 - accuracy: 0.6086 - val_loss: 1.1514 - val_accuracy: 0.4342\n",
            "Epoch 14/20\n",
            "10/10 [==============================] - 0s 6ms/step - loss: 0.8218 - accuracy: 0.6414 - val_loss: 1.1006 - val_accuracy: 0.4737\n",
            "Epoch 15/20\n",
            "10/10 [==============================] - 0s 5ms/step - loss: 0.8197 - accuracy: 0.6053 - val_loss: 1.1267 - val_accuracy: 0.4868\n",
            "Epoch 16/20\n",
            "10/10 [==============================] - 0s 5ms/step - loss: 0.8327 - accuracy: 0.6349 - val_loss: 1.1664 - val_accuracy: 0.4868\n",
            "Epoch 17/20\n",
            "10/10 [==============================] - 0s 5ms/step - loss: 0.8160 - accuracy: 0.5987 - val_loss: 1.0819 - val_accuracy: 0.4868\n",
            "Epoch 18/20\n",
            "10/10 [==============================] - 0s 5ms/step - loss: 0.8045 - accuracy: 0.6316 - val_loss: 1.1922 - val_accuracy: 0.4211\n",
            "Epoch 19/20\n",
            "10/10 [==============================] - 0s 5ms/step - loss: 0.8071 - accuracy: 0.6151 - val_loss: 1.1171 - val_accuracy: 0.5132\n",
            "Epoch 20/20\n",
            "10/10 [==============================] - 0s 5ms/step - loss: 0.7769 - accuracy: 0.6414 - val_loss: 1.1327 - val_accuracy: 0.5132\n"
          ]
        }
      ]
    },
    {
      "cell_type": "markdown",
      "source": [
        "TESTING ON THIS SEASON MATCHES"
      ],
      "metadata": {
        "id": "4eBI05-M_Leu"
      }
    },
    {
      "cell_type": "code",
      "source": [
        "df3 = clean_data(epl22[usable])"
      ],
      "metadata": {
        "id": "YWyapL_Xs0wf",
        "colab": {
          "base_uri": "https://localhost:8080/"
        },
        "outputId": "d179bdba-839b-4606-f779-e524939fe23b"
      },
      "execution_count": 31,
      "outputs": [
        {
          "output_type": "stream",
          "name": "stderr",
          "text": [
            "/usr/local/lib/python3.7/dist-packages/pandas/core/indexing.py:1596: SettingWithCopyWarning: \n",
            "A value is trying to be set on a copy of a slice from a DataFrame.\n",
            "Try using .loc[row_indexer,col_indexer] = value instead\n",
            "\n",
            "See the caveats in the documentation: https://pandas.pydata.org/pandas-docs/stable/user_guide/indexing.html#returning-a-view-versus-a-copy\n",
            "  self.obj[key] = _infer_fill_value(value)\n",
            "/usr/local/lib/python3.7/dist-packages/pandas/core/indexing.py:1743: SettingWithCopyWarning: \n",
            "A value is trying to be set on a copy of a slice from a DataFrame.\n",
            "Try using .loc[row_indexer,col_indexer] = value instead\n",
            "\n",
            "See the caveats in the documentation: https://pandas.pydata.org/pandas-docs/stable/user_guide/indexing.html#returning-a-view-versus-a-copy\n",
            "  isetter(ilocs[0], value)\n"
          ]
        }
      ]
    },
    {
      "cell_type": "code",
      "source": [
        "df3"
      ],
      "metadata": {
        "colab": {
          "base_uri": "https://localhost:8080/",
          "height": 424
        },
        "id": "hrJbIUyT_b_V",
        "outputId": "8dd07cab-a12c-4eb5-ad10-787ef2de1a4f"
      },
      "execution_count": 32,
      "outputs": [
        {
          "output_type": "execute_result",
          "data": {
            "text/html": [
              "\n",
              "  <div id=\"df-7d8ed6f9-5934-4e19-9426-3ca9ff38b31e\">\n",
              "    <div class=\"colab-df-container\">\n",
              "      <div>\n",
              "<style scoped>\n",
              "    .dataframe tbody tr th:only-of-type {\n",
              "        vertical-align: middle;\n",
              "    }\n",
              "\n",
              "    .dataframe tbody tr th {\n",
              "        vertical-align: top;\n",
              "    }\n",
              "\n",
              "    .dataframe thead th {\n",
              "        text-align: right;\n",
              "    }\n",
              "</style>\n",
              "<table border=\"1\" class=\"dataframe\">\n",
              "  <thead>\n",
              "    <tr style=\"text-align: right;\">\n",
              "      <th></th>\n",
              "      <th>HomeTeam</th>\n",
              "      <th>AwayTeam</th>\n",
              "      <th>FTR</th>\n",
              "      <th>HF</th>\n",
              "      <th>AF</th>\n",
              "      <th>HP</th>\n",
              "      <th>AP</th>\n",
              "      <th>HGS</th>\n",
              "      <th>AGS</th>\n",
              "      <th>HS</th>\n",
              "      <th>AS</th>\n",
              "      <th>HST</th>\n",
              "      <th>AST</th>\n",
              "      <th>HGC</th>\n",
              "      <th>AGC</th>\n",
              "      <th>HC</th>\n",
              "      <th>AC</th>\n",
              "    </tr>\n",
              "  </thead>\n",
              "  <tbody>\n",
              "    <tr>\n",
              "      <th>0</th>\n",
              "      <td>Brentford</td>\n",
              "      <td>Arsenal</td>\n",
              "      <td>H</td>\n",
              "      <td>0.0</td>\n",
              "      <td>0.0</td>\n",
              "      <td>0.0</td>\n",
              "      <td>0.0</td>\n",
              "      <td>0.0</td>\n",
              "      <td>0.0</td>\n",
              "      <td>0.0</td>\n",
              "      <td>0.0</td>\n",
              "      <td>0.0</td>\n",
              "      <td>0.0</td>\n",
              "      <td>0.0</td>\n",
              "      <td>0.0</td>\n",
              "      <td>0.0</td>\n",
              "      <td>0.0</td>\n",
              "    </tr>\n",
              "    <tr>\n",
              "      <th>1</th>\n",
              "      <td>Man United</td>\n",
              "      <td>Leeds</td>\n",
              "      <td>H</td>\n",
              "      <td>0.0</td>\n",
              "      <td>0.0</td>\n",
              "      <td>0.0</td>\n",
              "      <td>0.0</td>\n",
              "      <td>0.0</td>\n",
              "      <td>0.0</td>\n",
              "      <td>0.0</td>\n",
              "      <td>0.0</td>\n",
              "      <td>0.0</td>\n",
              "      <td>0.0</td>\n",
              "      <td>0.0</td>\n",
              "      <td>0.0</td>\n",
              "      <td>0.0</td>\n",
              "      <td>0.0</td>\n",
              "    </tr>\n",
              "    <tr>\n",
              "      <th>2</th>\n",
              "      <td>Burnley</td>\n",
              "      <td>Brighton</td>\n",
              "      <td>A</td>\n",
              "      <td>0.0</td>\n",
              "      <td>0.0</td>\n",
              "      <td>0.0</td>\n",
              "      <td>0.0</td>\n",
              "      <td>0.0</td>\n",
              "      <td>0.0</td>\n",
              "      <td>0.0</td>\n",
              "      <td>0.0</td>\n",
              "      <td>0.0</td>\n",
              "      <td>0.0</td>\n",
              "      <td>0.0</td>\n",
              "      <td>0.0</td>\n",
              "      <td>0.0</td>\n",
              "      <td>0.0</td>\n",
              "    </tr>\n",
              "    <tr>\n",
              "      <th>3</th>\n",
              "      <td>Chelsea</td>\n",
              "      <td>Crystal Palace</td>\n",
              "      <td>H</td>\n",
              "      <td>0.0</td>\n",
              "      <td>0.0</td>\n",
              "      <td>0.0</td>\n",
              "      <td>0.0</td>\n",
              "      <td>0.0</td>\n",
              "      <td>0.0</td>\n",
              "      <td>0.0</td>\n",
              "      <td>0.0</td>\n",
              "      <td>0.0</td>\n",
              "      <td>0.0</td>\n",
              "      <td>0.0</td>\n",
              "      <td>0.0</td>\n",
              "      <td>0.0</td>\n",
              "      <td>0.0</td>\n",
              "    </tr>\n",
              "    <tr>\n",
              "      <th>4</th>\n",
              "      <td>Everton</td>\n",
              "      <td>Southampton</td>\n",
              "      <td>H</td>\n",
              "      <td>0.0</td>\n",
              "      <td>0.0</td>\n",
              "      <td>0.0</td>\n",
              "      <td>0.0</td>\n",
              "      <td>0.0</td>\n",
              "      <td>0.0</td>\n",
              "      <td>0.0</td>\n",
              "      <td>0.0</td>\n",
              "      <td>0.0</td>\n",
              "      <td>0.0</td>\n",
              "      <td>0.0</td>\n",
              "      <td>0.0</td>\n",
              "      <td>0.0</td>\n",
              "      <td>0.0</td>\n",
              "    </tr>\n",
              "    <tr>\n",
              "      <th>...</th>\n",
              "      <td>...</td>\n",
              "      <td>...</td>\n",
              "      <td>...</td>\n",
              "      <td>...</td>\n",
              "      <td>...</td>\n",
              "      <td>...</td>\n",
              "      <td>...</td>\n",
              "      <td>...</td>\n",
              "      <td>...</td>\n",
              "      <td>...</td>\n",
              "      <td>...</td>\n",
              "      <td>...</td>\n",
              "      <td>...</td>\n",
              "      <td>...</td>\n",
              "      <td>...</td>\n",
              "      <td>...</td>\n",
              "      <td>...</td>\n",
              "    </tr>\n",
              "    <tr>\n",
              "      <th>171</th>\n",
              "      <td>Tottenham</td>\n",
              "      <td>Crystal Palace</td>\n",
              "      <td>H</td>\n",
              "      <td>10.0</td>\n",
              "      <td>4.0</td>\n",
              "      <td>26.0</td>\n",
              "      <td>20.0</td>\n",
              "      <td>18.0</td>\n",
              "      <td>24.0</td>\n",
              "      <td>162.0</td>\n",
              "      <td>191.0</td>\n",
              "      <td>62.0</td>\n",
              "      <td>62.0</td>\n",
              "      <td>19.0</td>\n",
              "      <td>24.0</td>\n",
              "      <td>85.0</td>\n",
              "      <td>75.0</td>\n",
              "    </tr>\n",
              "    <tr>\n",
              "      <th>172</th>\n",
              "      <td>West Ham</td>\n",
              "      <td>Southampton</td>\n",
              "      <td>A</td>\n",
              "      <td>5.0</td>\n",
              "      <td>3.0</td>\n",
              "      <td>28.0</td>\n",
              "      <td>17.0</td>\n",
              "      <td>28.0</td>\n",
              "      <td>16.0</td>\n",
              "      <td>217.0</td>\n",
              "      <td>216.0</td>\n",
              "      <td>80.0</td>\n",
              "      <td>67.0</td>\n",
              "      <td>21.0</td>\n",
              "      <td>26.0</td>\n",
              "      <td>88.0</td>\n",
              "      <td>104.0</td>\n",
              "    </tr>\n",
              "    <tr>\n",
              "      <th>173</th>\n",
              "      <td>Aston Villa</td>\n",
              "      <td>Chelsea</td>\n",
              "      <td>A</td>\n",
              "      <td>6.0</td>\n",
              "      <td>5.0</td>\n",
              "      <td>22.0</td>\n",
              "      <td>38.0</td>\n",
              "      <td>23.0</td>\n",
              "      <td>39.0</td>\n",
              "      <td>191.0</td>\n",
              "      <td>284.0</td>\n",
              "      <td>60.0</td>\n",
              "      <td>102.0</td>\n",
              "      <td>25.0</td>\n",
              "      <td>12.0</td>\n",
              "      <td>88.0</td>\n",
              "      <td>118.0</td>\n",
              "    </tr>\n",
              "    <tr>\n",
              "      <th>174</th>\n",
              "      <td>Brighton</td>\n",
              "      <td>Brentford</td>\n",
              "      <td>H</td>\n",
              "      <td>3.0</td>\n",
              "      <td>7.0</td>\n",
              "      <td>20.0</td>\n",
              "      <td>20.0</td>\n",
              "      <td>14.0</td>\n",
              "      <td>21.0</td>\n",
              "      <td>191.0</td>\n",
              "      <td>180.0</td>\n",
              "      <td>61.0</td>\n",
              "      <td>64.0</td>\n",
              "      <td>17.0</td>\n",
              "      <td>22.0</td>\n",
              "      <td>83.0</td>\n",
              "      <td>61.0</td>\n",
              "    </tr>\n",
              "    <tr>\n",
              "      <th>175</th>\n",
              "      <td>Newcastle</td>\n",
              "      <td>Man United</td>\n",
              "      <td>D</td>\n",
              "      <td>3.0</td>\n",
              "      <td>10.0</td>\n",
              "      <td>10.0</td>\n",
              "      <td>27.0</td>\n",
              "      <td>18.0</td>\n",
              "      <td>26.0</td>\n",
              "      <td>199.0</td>\n",
              "      <td>220.0</td>\n",
              "      <td>57.0</td>\n",
              "      <td>80.0</td>\n",
              "      <td>41.0</td>\n",
              "      <td>24.0</td>\n",
              "      <td>79.0</td>\n",
              "      <td>87.0</td>\n",
              "    </tr>\n",
              "  </tbody>\n",
              "</table>\n",
              "<p>176 rows × 17 columns</p>\n",
              "</div>\n",
              "      <button class=\"colab-df-convert\" onclick=\"convertToInteractive('df-7d8ed6f9-5934-4e19-9426-3ca9ff38b31e')\"\n",
              "              title=\"Convert this dataframe to an interactive table.\"\n",
              "              style=\"display:none;\">\n",
              "        \n",
              "  <svg xmlns=\"http://www.w3.org/2000/svg\" height=\"24px\"viewBox=\"0 0 24 24\"\n",
              "       width=\"24px\">\n",
              "    <path d=\"M0 0h24v24H0V0z\" fill=\"none\"/>\n",
              "    <path d=\"M18.56 5.44l.94 2.06.94-2.06 2.06-.94-2.06-.94-.94-2.06-.94 2.06-2.06.94zm-11 1L8.5 8.5l.94-2.06 2.06-.94-2.06-.94L8.5 2.5l-.94 2.06-2.06.94zm10 10l.94 2.06.94-2.06 2.06-.94-2.06-.94-.94-2.06-.94 2.06-2.06.94z\"/><path d=\"M17.41 7.96l-1.37-1.37c-.4-.4-.92-.59-1.43-.59-.52 0-1.04.2-1.43.59L10.3 9.45l-7.72 7.72c-.78.78-.78 2.05 0 2.83L4 21.41c.39.39.9.59 1.41.59.51 0 1.02-.2 1.41-.59l7.78-7.78 2.81-2.81c.8-.78.8-2.07 0-2.86zM5.41 20L4 18.59l7.72-7.72 1.47 1.35L5.41 20z\"/>\n",
              "  </svg>\n",
              "      </button>\n",
              "      \n",
              "  <style>\n",
              "    .colab-df-container {\n",
              "      display:flex;\n",
              "      flex-wrap:wrap;\n",
              "      gap: 12px;\n",
              "    }\n",
              "\n",
              "    .colab-df-convert {\n",
              "      background-color: #E8F0FE;\n",
              "      border: none;\n",
              "      border-radius: 50%;\n",
              "      cursor: pointer;\n",
              "      display: none;\n",
              "      fill: #1967D2;\n",
              "      height: 32px;\n",
              "      padding: 0 0 0 0;\n",
              "      width: 32px;\n",
              "    }\n",
              "\n",
              "    .colab-df-convert:hover {\n",
              "      background-color: #E2EBFA;\n",
              "      box-shadow: 0px 1px 2px rgba(60, 64, 67, 0.3), 0px 1px 3px 1px rgba(60, 64, 67, 0.15);\n",
              "      fill: #174EA6;\n",
              "    }\n",
              "\n",
              "    [theme=dark] .colab-df-convert {\n",
              "      background-color: #3B4455;\n",
              "      fill: #D2E3FC;\n",
              "    }\n",
              "\n",
              "    [theme=dark] .colab-df-convert:hover {\n",
              "      background-color: #434B5C;\n",
              "      box-shadow: 0px 1px 3px 1px rgba(0, 0, 0, 0.15);\n",
              "      filter: drop-shadow(0px 1px 2px rgba(0, 0, 0, 0.3));\n",
              "      fill: #FFFFFF;\n",
              "    }\n",
              "  </style>\n",
              "\n",
              "      <script>\n",
              "        const buttonEl =\n",
              "          document.querySelector('#df-7d8ed6f9-5934-4e19-9426-3ca9ff38b31e button.colab-df-convert');\n",
              "        buttonEl.style.display =\n",
              "          google.colab.kernel.accessAllowed ? 'block' : 'none';\n",
              "\n",
              "        async function convertToInteractive(key) {\n",
              "          const element = document.querySelector('#df-7d8ed6f9-5934-4e19-9426-3ca9ff38b31e');\n",
              "          const dataTable =\n",
              "            await google.colab.kernel.invokeFunction('convertToInteractive',\n",
              "                                                     [key], {});\n",
              "          if (!dataTable) return;\n",
              "\n",
              "          const docLinkHtml = 'Like what you see? Visit the ' +\n",
              "            '<a target=\"_blank\" href=https://colab.research.google.com/notebooks/data_table.ipynb>data table notebook</a>'\n",
              "            + ' to learn more about interactive tables.';\n",
              "          element.innerHTML = '';\n",
              "          dataTable['output_type'] = 'display_data';\n",
              "          await google.colab.output.renderOutput(dataTable, element);\n",
              "          const docLink = document.createElement('div');\n",
              "          docLink.innerHTML = docLinkHtml;\n",
              "          element.appendChild(docLink);\n",
              "        }\n",
              "      </script>\n",
              "    </div>\n",
              "  </div>\n",
              "  "
            ],
            "text/plain": [
              "        HomeTeam        AwayTeam FTR    HF  ...   HGC   AGC    HC     AC\n",
              "0      Brentford         Arsenal   H   0.0  ...   0.0   0.0   0.0    0.0\n",
              "1     Man United           Leeds   H   0.0  ...   0.0   0.0   0.0    0.0\n",
              "2        Burnley        Brighton   A   0.0  ...   0.0   0.0   0.0    0.0\n",
              "3        Chelsea  Crystal Palace   H   0.0  ...   0.0   0.0   0.0    0.0\n",
              "4        Everton     Southampton   H   0.0  ...   0.0   0.0   0.0    0.0\n",
              "..           ...             ...  ..   ...  ...   ...   ...   ...    ...\n",
              "171    Tottenham  Crystal Palace   H  10.0  ...  19.0  24.0  85.0   75.0\n",
              "172     West Ham     Southampton   A   5.0  ...  21.0  26.0  88.0  104.0\n",
              "173  Aston Villa         Chelsea   A   6.0  ...  25.0  12.0  88.0  118.0\n",
              "174     Brighton       Brentford   H   3.0  ...  17.0  22.0  83.0   61.0\n",
              "175    Newcastle      Man United   D   3.0  ...  41.0  24.0  79.0   87.0\n",
              "\n",
              "[176 rows x 17 columns]"
            ]
          },
          "metadata": {},
          "execution_count": 32
        }
      ]
    },
    {
      "cell_type": "code",
      "source": [
        "numerical_cols = [cname for cname in df3.columns if df3[cname].dtype in ['Int64', 'float64']]\n",
        "\n",
        "df3[numerical_cols] = scal.transform(df3[numerical_cols])"
      ],
      "metadata": {
        "colab": {
          "base_uri": "https://localhost:8080/"
        },
        "id": "7J9pu0NJ0Lzt",
        "outputId": "5b8e96ff-9d9f-4c0b-ea1d-f45f3fc2f7d7"
      },
      "execution_count": 33,
      "outputs": [
        {
          "output_type": "stream",
          "name": "stderr",
          "text": [
            "/usr/local/lib/python3.7/dist-packages/ipykernel_launcher.py:1: DeprecationWarning: Numeric-style type codes are deprecated and will result in an error in the future.\n",
            "  \"\"\"Entry point for launching an IPython kernel.\n"
          ]
        }
      ]
    },
    {
      "cell_type": "code",
      "source": [
        "df3['FTR'] = enc_ftr.fit_transform(df3[['FTR']])"
      ],
      "metadata": {
        "id": "jJEtD4TP_rku"
      },
      "execution_count": 34,
      "outputs": []
    },
    {
      "cell_type": "code",
      "source": [
        "cat = enc.categories_[0]\n",
        "cat = np.append(cat, list(set(df3.HomeTeam.unique())-set(cat)))\n",
        "\n",
        "enc.categories_ = [cat]"
      ],
      "metadata": {
        "id": "rC-9BfwC_ztr"
      },
      "execution_count": 35,
      "outputs": []
    },
    {
      "cell_type": "code",
      "source": [
        "df3['HomeTeam'] = enc.transform(df3[['HomeTeam']])\n",
        "df3.AwayTeam = enc.transform(df3[['AwayTeam']])"
      ],
      "metadata": {
        "colab": {
          "base_uri": "https://localhost:8080/"
        },
        "id": "q_b07Pfr_ziQ",
        "outputId": "169664d8-85fc-4678-cbcf-016a760f982b"
      },
      "execution_count": 36,
      "outputs": [
        {
          "output_type": "stream",
          "name": "stderr",
          "text": [
            "/usr/local/lib/python3.7/dist-packages/sklearn/base.py:488: FutureWarning: The feature names should match those that were passed during fit. Starting version 1.2, an error will be raised.\n",
            "Feature names unseen at fit time:\n",
            "- AwayTeam\n",
            "Feature names seen at fit time, yet now missing:\n",
            "- HomeTeam\n",
            "\n",
            "  warnings.warn(message, FutureWarning)\n"
          ]
        }
      ]
    },
    {
      "cell_type": "code",
      "source": [
        "X2 = np.asarray(df3.drop(['FTR'], axis=1)).astype(np.float32)\n",
        "y2 = np.asarray(df3.FTR).astype(np.float32)  "
      ],
      "metadata": {
        "id": "a0pMRKvZAZbB"
      },
      "execution_count": 37,
      "outputs": []
    },
    {
      "cell_type": "code",
      "source": [
        "hist2 = model.fit(X2, y2, epochs=20)"
      ],
      "metadata": {
        "colab": {
          "base_uri": "https://localhost:8080/"
        },
        "id": "gRmhUGl4AmS1",
        "outputId": "2ff90b41-e522-46c4-b42a-b4aa2ee7bb96"
      },
      "execution_count": 38,
      "outputs": [
        {
          "output_type": "stream",
          "name": "stdout",
          "text": [
            "Epoch 1/20\n",
            "6/6 [==============================] - 0s 4ms/step - loss: 1.1510 - accuracy: 0.4261\n",
            "Epoch 2/20\n",
            "6/6 [==============================] - 0s 3ms/step - loss: 1.0495 - accuracy: 0.4773\n",
            "Epoch 3/20\n",
            "6/6 [==============================] - 0s 3ms/step - loss: 1.0100 - accuracy: 0.4943\n",
            "Epoch 4/20\n",
            "6/6 [==============================] - 0s 3ms/step - loss: 0.9667 - accuracy: 0.5057\n",
            "Epoch 5/20\n",
            "6/6 [==============================] - 0s 3ms/step - loss: 0.9456 - accuracy: 0.5170\n",
            "Epoch 6/20\n",
            "6/6 [==============================] - 0s 3ms/step - loss: 0.9210 - accuracy: 0.5284\n",
            "Epoch 7/20\n",
            "6/6 [==============================] - 0s 3ms/step - loss: 0.9008 - accuracy: 0.5682\n",
            "Epoch 8/20\n",
            "6/6 [==============================] - 0s 3ms/step - loss: 0.8852 - accuracy: 0.5625\n",
            "Epoch 9/20\n",
            "6/6 [==============================] - 0s 3ms/step - loss: 0.8735 - accuracy: 0.6080\n",
            "Epoch 10/20\n",
            "6/6 [==============================] - 0s 3ms/step - loss: 0.8673 - accuracy: 0.6136\n",
            "Epoch 11/20\n",
            "6/6 [==============================] - 0s 3ms/step - loss: 0.8405 - accuracy: 0.6534\n",
            "Epoch 12/20\n",
            "6/6 [==============================] - 0s 3ms/step - loss: 0.8413 - accuracy: 0.6420\n",
            "Epoch 13/20\n",
            "6/6 [==============================] - 0s 3ms/step - loss: 0.8207 - accuracy: 0.6364\n",
            "Epoch 14/20\n",
            "6/6 [==============================] - 0s 3ms/step - loss: 0.8439 - accuracy: 0.6136\n",
            "Epoch 15/20\n",
            "6/6 [==============================] - 0s 3ms/step - loss: 0.8197 - accuracy: 0.6648\n",
            "Epoch 16/20\n",
            "6/6 [==============================] - 0s 4ms/step - loss: 0.8112 - accuracy: 0.6193\n",
            "Epoch 17/20\n",
            "6/6 [==============================] - 0s 3ms/step - loss: 0.7885 - accuracy: 0.6818\n",
            "Epoch 18/20\n",
            "6/6 [==============================] - 0s 3ms/step - loss: 0.7583 - accuracy: 0.7102\n",
            "Epoch 19/20\n",
            "6/6 [==============================] - 0s 3ms/step - loss: 0.7521 - accuracy: 0.6818\n",
            "Epoch 20/20\n",
            "6/6 [==============================] - 0s 3ms/step - loss: 0.7371 - accuracy: 0.6761\n"
          ]
        }
      ]
    },
    {
      "cell_type": "code",
      "source": [
        "def get_stats(ht, at, df_in=epl22[usable]): #ht, at for hometeam and awayteam respectively\n",
        "  df = pd.DataFrame([{'HomeTeam':ht, 'AwayTeam':at}])\n",
        "  epl = df_in\n",
        "  stats_dict = {}\n",
        "  for team in [ht, at]:\n",
        "    team_data = pd.concat([epl[epl.HomeTeam == team], epl[epl.AwayTeam == team]]).sort_index().reset_index()\n",
        "    team_stats = {}\n",
        "    team_data['Points'] = team_data.apply(lambda x: form_guide(x, team), axis =1)\n",
        "    team_stats['Form'] = team_data['Points'].tail(4).sum()\n",
        "    team_stats['Total_Points'] = team_data['Points'].sum()\n",
        "\n",
        "    team_stats['Shots'] = team_data.apply(lambda x: shots(x, team), axis=1).sum()\n",
        "    team_stats['Shots_On_Target'] = team_data.apply(lambda x: shots_ot(x, team), axis=1).sum()\n",
        "\n",
        "    team_stats['Corners'] = team_data.apply(lambda x: corners(x, team), axis=1).sum()\n",
        "\n",
        "    team_stats['Goals_Scored'] = team_data.apply(lambda x: goals_sc(x, team), axis=1).sum()\n",
        "\n",
        "    team_stats['Goals_Conceded'] = team_data.apply(lambda x: goals_con(x, team), axis=1).sum()\n",
        "    stats_dict[team] = team_stats\n",
        "  \n",
        "  for team, team_stats in stats_dict.items():\n",
        "    if team == ht:\n",
        "      home = team_stats\n",
        "    elif team == at:\n",
        "      away = team_stats\n",
        "\n",
        "  df['HF'] = home['Form']\n",
        "  df['AF'] = away['Form']\n",
        "\n",
        "  df['HP'] = home['Total_Points']\n",
        "  df['AP'] = away['Total_Points']\n",
        "\n",
        "  df['HGS'] = home['Goals_Scored']\n",
        "  df['AGS'] = away['Goals_Scored']\n",
        "\n",
        "  df['HS'] = home['Shots']\n",
        "  df['AS'] = away['Shots']\n",
        "\n",
        "  df['HST'] = home['Shots_On_Target']\n",
        "  df['AST'] = away['Shots_On_Target']\n",
        "\n",
        "  df['HGC'] = home['Goals_Conceded']\n",
        "  df['AGC'] = away['Goals_Conceded']\n",
        "\n",
        "  df['HC'] = home['Corners']\n",
        "  df['AC'] = away['Corners']\n",
        "\n",
        "  return df"
      ],
      "metadata": {
        "id": "XwR6a9VmA20g"
      },
      "execution_count": 39,
      "outputs": []
    },
    {
      "cell_type": "code",
      "source": [
        "def predict_match(ht, at):\n",
        "  df_temp = get_stats(ht, at)\n",
        "  numerical_cols = [cname for cname in df_temp.columns if df_temp[cname].dtype in ['Int64', 'float64']]\n",
        "  df_temp[numerical_cols] = scal.transform(df_temp[numerical_cols])\n",
        "  df_temp['HomeTeam'] = enc.transform(df_temp[['HomeTeam']])\n",
        "  df_temp.AwayTeam = enc.transform(df_temp[['AwayTeam']])\n",
        "  array = np.asarray(df_temp).astype(np.float32)\n",
        "  y_proba = model.predict(array)\n",
        "  result = enc_ftr.inverse_transform([y_proba.argmax(axis=1)])\n",
        "  return (result[0][0], y_proba)"
      ],
      "metadata": {
        "id": "Sgl0T7dJF1cc"
      },
      "execution_count": 82,
      "outputs": []
    },
    {
      "cell_type": "code",
      "source": [
        "predict_match('Norwich', 'Arsenal')"
      ],
      "metadata": {
        "colab": {
          "base_uri": "https://localhost:8080/"
        },
        "id": "7M43HEqpCfuX",
        "outputId": "b55b486a-481e-4f36-f6ac-d5cf47a6d191"
      },
      "execution_count": 84,
      "outputs": [
        {
          "output_type": "stream",
          "name": "stderr",
          "text": [
            "/usr/local/lib/python3.7/dist-packages/ipykernel_launcher.py:3: DeprecationWarning: Numeric-style type codes are deprecated and will result in an error in the future.\n",
            "  This is separate from the ipykernel package so we can avoid doing imports until\n",
            "/usr/local/lib/python3.7/dist-packages/sklearn/base.py:488: FutureWarning: The feature names should match those that were passed during fit. Starting version 1.2, an error will be raised.\n",
            "Feature names unseen at fit time:\n",
            "- AwayTeam\n",
            "Feature names seen at fit time, yet now missing:\n",
            "- HomeTeam\n",
            "\n",
            "  warnings.warn(message, FutureWarning)\n"
          ]
        },
        {
          "output_type": "execute_result",
          "data": {
            "text/plain": [
              "('A', array([[0.6007165 , 0.09128468, 0.30799887]], dtype=float32))"
            ]
          },
          "metadata": {},
          "execution_count": 84
        }
      ]
    },
    {
      "cell_type": "code",
      "source": [
        "enc.categories_"
      ],
      "metadata": {
        "colab": {
          "base_uri": "https://localhost:8080/"
        },
        "id": "91MzPoNPqmJV",
        "outputId": "94eb42e7-807b-495e-b360-d784a79bfc9d"
      },
      "execution_count": 42,
      "outputs": [
        {
          "output_type": "execute_result",
          "data": {
            "text/plain": [
              "[array(['Arsenal', 'Aston Villa', 'Bournemouth', 'Brighton', 'Burnley',\n",
              "        'Chelsea', 'Crystal Palace', 'Everton', 'Leicester', 'Liverpool',\n",
              "        'Man City', 'Man United', 'Newcastle', 'Norwich',\n",
              "        'Sheffield United', 'Southampton', 'Tottenham', 'Watford',\n",
              "        'West Ham', 'Wolves', 'Fulham', 'West Brom', 'Leeds', 'Brentford'],\n",
              "       dtype=object)]"
            ]
          },
          "metadata": {},
          "execution_count": 42
        }
      ]
    },
    {
      "cell_type": "code",
      "source": [
        "import joblib"
      ],
      "metadata": {
        "id": "61nvXHKsSt8D"
      },
      "execution_count": 85,
      "outputs": []
    },
    {
      "cell_type": "code",
      "source": [
        "joblib.dump(enc, 'encoder_for_teams')"
      ],
      "metadata": {
        "colab": {
          "base_uri": "https://localhost:8080/"
        },
        "id": "G4KoRJueSxDa",
        "outputId": "132159b1-9612-41b9-f986-81f453f4d7f9"
      },
      "execution_count": 89,
      "outputs": [
        {
          "output_type": "execute_result",
          "data": {
            "text/plain": [
              "['encoder_for_teams']"
            ]
          },
          "metadata": {},
          "execution_count": 89
        }
      ]
    },
    {
      "cell_type": "code",
      "source": [
        "keras.models.save_model(model, 'my_epl2022_model')"
      ],
      "metadata": {
        "colab": {
          "base_uri": "https://localhost:8080/"
        },
        "id": "6lLzdFJ3VJyS",
        "outputId": "f9736ccf-aea3-46d6-8b98-8fb67c8c4a3f"
      },
      "execution_count": 95,
      "outputs": [
        {
          "output_type": "stream",
          "name": "stdout",
          "text": [
            "INFO:tensorflow:Assets written to: my_epl2022_model/assets\n"
          ]
        }
      ]
    }
  ]
}