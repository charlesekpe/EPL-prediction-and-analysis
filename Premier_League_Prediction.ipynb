{
  "nbformat": 4,
  "nbformat_minor": 0,
  "metadata": {
    "colab": {
      "name": "Premier League Prediction.ipynb",
      "provenance": [],
      "collapsed_sections": [],
      "authorship_tag": "ABX9TyN/dOqRdUOfN114rm8lmRYo"
    },
    "kernelspec": {
      "name": "python3",
      "display_name": "Python 3"
    },
    "language_info": {
      "name": "python"
    }
  },
  "cells": [
    {
      "cell_type": "code",
      "source": [
        "import pandas as pd\n",
        "import numpy as np\n",
        "import tensorflow as tf\n",
        "from tensorflow import keras\n",
        "from urllib.request import urlopen\n",
        "from sklearn.preprocessing import OrdinalEncoder, StandardScaler\n",
        "from sklearn.model_selection import train_test_split, cross_val_score, GridSearchCV\n",
        "from keras.wrappers.scikit_learn import KerasClassifier"
      ],
      "metadata": {
        "id": "l5EfNuusN9Pe"
      },
      "execution_count": null,
      "outputs": []
    },
    {
      "cell_type": "code",
      "source": [
        "epl20 = pd.read_csv(\"https://www.football-data.co.uk/mmz4281/1920/E0.csv\")\n",
        "epl21 = pd.read_csv(\"https://www.football-data.co.uk/mmz4281/2021/E0.csv\")\n",
        "epl22 = pd.read_csv(\"https://www.football-data.co.uk/mmz4281/2122/E0.csv\")\n",
        "\n",
        "columns = urlopen(\"https://www.football-data.co.uk/notes.txt\") "
      ],
      "metadata": {
        "id": "XYZDAqKR9enw"
      },
      "execution_count": null,
      "outputs": []
    },
    {
      "cell_type": "code",
      "source": [
        "usable = ['HomeTeam', 'AwayTeam', 'FTR', 'FTHG', 'FTAG', 'HS', 'AS', 'HST', 'AST', 'HF', 'AF', 'HC', 'AC']"
      ],
      "metadata": {
        "id": "npYgXPj41VAa"
      },
      "execution_count": null,
      "outputs": []
    },
    {
      "cell_type": "code",
      "source": [
        "def form_guide(x, team):\n",
        "  result = []\n",
        "  if x.FTR == 'H' and x.HomeTeam == team:\n",
        "    result.append(3)\n",
        "  elif x.AwayTeam == team and x.FTR == 'A':\n",
        "    result.append(3)\n",
        "  elif x.FTR == 'D':\n",
        "    result.append(1)\n",
        "  else:\n",
        "    result.append(0)\n",
        "  return sum(result)\n",
        "\n",
        "def shots(x, team):\n",
        "  if x.HomeTeam == team:\n",
        "    return x.HS\n",
        "  if x.AwayTeam == team:\n",
        "    return x.AS\n",
        "\n",
        "def shots_ot(x, team):\n",
        "  if x.HomeTeam == team:\n",
        "    return x.HST\n",
        "  if x.AwayTeam == team:\n",
        "    return x.AST\n",
        "\n",
        "def corners(x, team):\n",
        "  if x.HomeTeam == team:\n",
        "    return x.HC\n",
        "  if x.AwayTeam == team:\n",
        "    return x.AC\n",
        "\n",
        "def goals_sc(x, team):\n",
        "  if x.HomeTeam == team:\n",
        "    return x.FTHG\n",
        "  if x.AwayTeam == team:\n",
        "    return x.FTAG\n",
        "\n",
        "def goals_con(x, team):\n",
        "  if x.HomeTeam == team:\n",
        "    return x.FTAG\n",
        "  if x.AwayTeam == team:\n",
        "    return x.FTHG"
      ],
      "metadata": {
        "id": "IXKNHD6Zbe0_"
      },
      "execution_count": null,
      "outputs": []
    },
    {
      "cell_type": "code",
      "source": [
        "def clean_data(epl):\n",
        "  df = epl[['HomeTeam', 'AwayTeam', 'FTR']]\n",
        "  for team in epl.HomeTeam.unique():\n",
        "    team_data = pd.concat([epl[epl.HomeTeam == team], epl[epl.AwayTeam == team]]).sort_index().reset_index()\n",
        "    team_data['Points'] = team_data.apply(lambda x: form_guide(x, team), axis =1)\n",
        "    team_data['Form'] = team_data.apply(lambda x: sum(team_data['Points'][x.name-4:x.name]), axis=1)\n",
        "    team_data['Total_Points'] = team_data['Points'].shift().cumsum()\n",
        "\n",
        "    team_data['Shots'] = team_data.apply(lambda x: shots(x, team), axis=1).shift().cumsum()\n",
        "    team_data['Shots_On_Target'] = team_data.apply(lambda x: shots_ot(x, team), axis=1).shift().cumsum()\n",
        "\n",
        "    team_data['Corners'] = team_data.apply(lambda x: corners(x, team), axis=1).shift().cumsum()\n",
        "\n",
        "    team_data['Goals_Scored'] = team_data.apply(lambda x: goals_sc(x, team), axis=1).shift().cumsum()\n",
        "\n",
        "    team_data['Goals_Conceded'] = team_data.apply(lambda x: goals_con(x, team), axis=1).shift().cumsum()\n",
        "    team_data.fillna(0, inplace=True)\n",
        "\n",
        "    home = team_data.groupby('HomeTeam').get_group(team).set_index('index')\n",
        "    away = team_data.groupby('AwayTeam').get_group(team).set_index('index')\n",
        "\n",
        "    df.loc[home.index, 'HF'] = home['Form']\n",
        "    df.loc[away.index, 'AF'] = away['Form']\n",
        "\n",
        "    df.loc[home.index, 'HP'] = home['Total_Points']\n",
        "    df.loc[away.index, 'AP'] = away['Total_Points']\n",
        "\n",
        "    df.loc[home.index, 'HGS'] = home['Goals_Scored']\n",
        "    df.loc[away.index, 'AGS'] = away['Goals_Scored']\n",
        "\n",
        "    df.loc[home.index, 'HS'] = home['Shots']\n",
        "    df.loc[away.index, 'AS'] = away['Shots']\n",
        "\n",
        "    df.loc[home.index, 'HST'] = home['Shots_On_Target']\n",
        "    df.loc[away.index, 'AST'] = away['Shots_On_Target']\n",
        "\n",
        "    df.loc[home.index, 'HGC'] = home['Goals_Conceded']\n",
        "    df.loc[away.index, 'AGC'] = away['Goals_Conceded']\n",
        "\n",
        "    df.loc[home.index, 'HC'] = home['Corners']\n",
        "    df.loc[away.index, 'AC'] = away['Corners']\n",
        "\n",
        "  return df"
      ],
      "metadata": {
        "id": "nxKW3FwtWtAS"
      },
      "execution_count": null,
      "outputs": []
    },
    {
      "cell_type": "code",
      "source": [
        "df1 = clean_data(epl20[usable])"
      ],
      "metadata": {
        "id": "ccHALrrpzIFn",
        "colab": {
          "base_uri": "https://localhost:8080/"
        },
        "outputId": "b7cecf0e-7c37-43d3-e4b4-8f2939254eed"
      },
      "execution_count": null,
      "outputs": [
        {
          "output_type": "stream",
          "name": "stderr",
          "text": [
            "/usr/local/lib/python3.7/dist-packages/pandas/core/indexing.py:1596: SettingWithCopyWarning: \n",
            "A value is trying to be set on a copy of a slice from a DataFrame.\n",
            "Try using .loc[row_indexer,col_indexer] = value instead\n",
            "\n",
            "See the caveats in the documentation: https://pandas.pydata.org/pandas-docs/stable/user_guide/indexing.html#returning-a-view-versus-a-copy\n",
            "  self.obj[key] = _infer_fill_value(value)\n",
            "/usr/local/lib/python3.7/dist-packages/pandas/core/indexing.py:1743: SettingWithCopyWarning: \n",
            "A value is trying to be set on a copy of a slice from a DataFrame.\n",
            "Try using .loc[row_indexer,col_indexer] = value instead\n",
            "\n",
            "See the caveats in the documentation: https://pandas.pydata.org/pandas-docs/stable/user_guide/indexing.html#returning-a-view-versus-a-copy\n",
            "  isetter(ilocs[0], value)\n"
          ]
        }
      ]
    },
    {
      "cell_type": "code",
      "source": [
        "from sklearn.compose import ColumnTransformer"
      ],
      "metadata": {
        "id": "0coLeAjTFkx_"
      },
      "execution_count": null,
      "outputs": []
    },
    {
      "cell_type": "code",
      "source": [
        "num_col = [cname for cname in df1.columns if df1[cname].dtype in ['Int64', 'float64']]\n",
        "cat_col = ['HomeTeam', 'AwayTeam']\n",
        "obj_col = ['FTR']\n",
        "\n",
        "pipeline = ColumnTransformer([\n",
        "                              ('encoder', OrdinalEncoder(), cat_col),\n",
        "                              ('scaler', StandardScaler(), num_col),\n",
        "])"
      ],
      "metadata": {
        "colab": {
          "base_uri": "https://localhost:8080/"
        },
        "id": "ITrah15JFb3E",
        "outputId": "0d45c948-e59e-43fc-ee13-157b4c98c048"
      },
      "execution_count": null,
      "outputs": [
        {
          "output_type": "stream",
          "name": "stderr",
          "text": [
            "/usr/local/lib/python3.7/dist-packages/ipykernel_launcher.py:1: DeprecationWarning: Numeric-style type codes are deprecated and will result in an error in the future.\n",
            "  \"\"\"Entry point for launching an IPython kernel.\n"
          ]
        }
      ]
    },
    {
      "cell_type": "code",
      "source": [
        "pipeline.fit(df1)"
      ],
      "metadata": {
        "id": "eF29hGi0Jip9",
        "colab": {
          "base_uri": "https://localhost:8080/"
        },
        "outputId": "cd78740d-117b-4eeb-ec0b-adaff5d1a302"
      },
      "execution_count": null,
      "outputs": [
        {
          "output_type": "execute_result",
          "data": {
            "text/plain": [
              "ColumnTransformer(transformers=[('encoder', OrdinalEncoder(),\n",
              "                                 ['HomeTeam', 'AwayTeam']),\n",
              "                                ('scaler', StandardScaler(),\n",
              "                                 ['HF', 'AF', 'HP', 'AP', 'HGS', 'AGS', 'HS',\n",
              "                                  'AS', 'HST', 'AST', 'HGC', 'AGC', 'HC',\n",
              "                                  'AC'])])"
            ]
          },
          "metadata": {},
          "execution_count": 9
        }
      ]
    },
    {
      "cell_type": "code",
      "source": [
        "X = pipeline.transform(df1)\n",
        "\n",
        "enc_ftr = OrdinalEncoder()\n",
        "enc_ftr.fit(df1[['FTR']])\n",
        "\n",
        "y = enc_ftr.transform(df1[['FTR']])"
      ],
      "metadata": {
        "id": "wn1L63UVLHfl"
      },
      "execution_count": null,
      "outputs": []
    },
    {
      "cell_type": "code",
      "source": [
        "X_train, X_valid, y_train, y_valid = train_test_split(X, y, test_size=0.1)"
      ],
      "metadata": {
        "id": "-0Gs12n6Mt7-"
      },
      "execution_count": null,
      "outputs": []
    },
    {
      "cell_type": "code",
      "source": [
        "model = keras.Sequential([\n",
        "                          keras.layers.Input(shape=X_train.shape[1:]),\n",
        "                          keras.layers.Dense(300, activation='relu'),\n",
        "                          keras.layers.Dense(100, activation='relu'),\n",
        "                          keras.layers.Dense(50, activation='relu'),\n",
        "                          keras.layers.Dense(3, activation='softmax')                          \n",
        "])\n",
        "model.compile(optimizer='adam', loss='sparse_categorical_crossentropy', metrics=['accuracy'])\n",
        "\n",
        "[print(i.shape, i.dtype) for i in model.inputs]\n",
        "[print(o.shape, o.dtype) for o in model.outputs]\n",
        "[print(l.name, l.input_shape, l.dtype) for l in model.layers]\n",
        "\n",
        "hist = model.fit(X_train, y_train, epochs=20, validation_data=(X_valid, y_valid))\n"
      ],
      "metadata": {
        "id": "LCWdPXPnMRN5",
        "colab": {
          "base_uri": "https://localhost:8080/"
        },
        "outputId": "fa1189ba-329b-46b7-adaa-9f95bec881ca"
      },
      "execution_count": null,
      "outputs": [
        {
          "output_type": "stream",
          "name": "stdout",
          "text": [
            "(None, 16) <dtype: 'float32'>\n",
            "(None, 3) <dtype: 'float32'>\n",
            "dense (None, 16) float32\n",
            "dense_1 (None, 300) float32\n",
            "dense_2 (None, 100) float32\n",
            "dense_3 (None, 50) float32\n",
            "Epoch 1/20\n",
            "11/11 [==============================] - 1s 20ms/step - loss: 1.1403 - accuracy: 0.4035 - val_loss: 1.0189 - val_accuracy: 0.4211\n",
            "Epoch 2/20\n",
            "11/11 [==============================] - 0s 4ms/step - loss: 1.0482 - accuracy: 0.4766 - val_loss: 1.0093 - val_accuracy: 0.4211\n",
            "Epoch 3/20\n",
            "11/11 [==============================] - 0s 4ms/step - loss: 1.0221 - accuracy: 0.4971 - val_loss: 0.9318 - val_accuracy: 0.6316\n",
            "Epoch 4/20\n",
            "11/11 [==============================] - 0s 4ms/step - loss: 1.0080 - accuracy: 0.5058 - val_loss: 0.9368 - val_accuracy: 0.5789\n",
            "Epoch 5/20\n",
            "11/11 [==============================] - 0s 4ms/step - loss: 1.0038 - accuracy: 0.4971 - val_loss: 0.9763 - val_accuracy: 0.4211\n",
            "Epoch 6/20\n",
            "11/11 [==============================] - 0s 4ms/step - loss: 0.9769 - accuracy: 0.5175 - val_loss: 0.8959 - val_accuracy: 0.6316\n",
            "Epoch 7/20\n",
            "11/11 [==============================] - 0s 4ms/step - loss: 0.9709 - accuracy: 0.5263 - val_loss: 0.9903 - val_accuracy: 0.4737\n",
            "Epoch 8/20\n",
            "11/11 [==============================] - 0s 4ms/step - loss: 0.9801 - accuracy: 0.5205 - val_loss: 0.9187 - val_accuracy: 0.5263\n",
            "Epoch 9/20\n",
            "11/11 [==============================] - 0s 4ms/step - loss: 0.9528 - accuracy: 0.5409 - val_loss: 0.9131 - val_accuracy: 0.6316\n",
            "Epoch 10/20\n",
            "11/11 [==============================] - 0s 5ms/step - loss: 0.9575 - accuracy: 0.5292 - val_loss: 0.9165 - val_accuracy: 0.5789\n",
            "Epoch 11/20\n",
            "11/11 [==============================] - 0s 4ms/step - loss: 0.9348 - accuracy: 0.5731 - val_loss: 0.9161 - val_accuracy: 0.5526\n",
            "Epoch 12/20\n",
            "11/11 [==============================] - 0s 5ms/step - loss: 0.9273 - accuracy: 0.5526 - val_loss: 0.9877 - val_accuracy: 0.4211\n",
            "Epoch 13/20\n",
            "11/11 [==============================] - 0s 4ms/step - loss: 0.9333 - accuracy: 0.5556 - val_loss: 0.9228 - val_accuracy: 0.5526\n",
            "Epoch 14/20\n",
            "11/11 [==============================] - 0s 5ms/step - loss: 0.9373 - accuracy: 0.5497 - val_loss: 0.9667 - val_accuracy: 0.4737\n",
            "Epoch 15/20\n",
            "11/11 [==============================] - 0s 4ms/step - loss: 0.9385 - accuracy: 0.5322 - val_loss: 0.9211 - val_accuracy: 0.5263\n",
            "Epoch 16/20\n",
            "11/11 [==============================] - 0s 4ms/step - loss: 0.8970 - accuracy: 0.5731 - val_loss: 0.8896 - val_accuracy: 0.6053\n",
            "Epoch 17/20\n",
            "11/11 [==============================] - 0s 4ms/step - loss: 0.8960 - accuracy: 0.5789 - val_loss: 0.8920 - val_accuracy: 0.5789\n",
            "Epoch 18/20\n",
            "11/11 [==============================] - 0s 5ms/step - loss: 0.8769 - accuracy: 0.5848 - val_loss: 0.8776 - val_accuracy: 0.6316\n",
            "Epoch 19/20\n",
            "11/11 [==============================] - 0s 5ms/step - loss: 0.8714 - accuracy: 0.5906 - val_loss: 0.8784 - val_accuracy: 0.6579\n",
            "Epoch 20/20\n",
            "11/11 [==============================] - 0s 4ms/step - loss: 0.8691 - accuracy: 0.5848 - val_loss: 0.8921 - val_accuracy: 0.5789\n"
          ]
        }
      ]
    },
    {
      "cell_type": "markdown",
      "source": [
        "USING GRID SEARCH TO FINE THE BEST HYPER PARAMETERS"
      ],
      "metadata": {
        "id": "RWt3TALKzQAn"
      }
    },
    {
      "cell_type": "code",
      "source": [
        "def create_model(activation='relu', optimizer='adam'):\n",
        "  # create model\n",
        "  model = keras.models.Sequential()\n",
        "  model.add(keras.layers.Input(shape=X_train.shape[1:]))\n",
        "  model.add(keras.layers.Dense(300, activation=activation))\n",
        "  model.add(keras.layers.Dense(100, activation=activation))\n",
        "  model.add(keras.layers.Dense(50, activation='relu'))\n",
        "  model.add(keras.layers.Dense(3, activation='softmax'))\n",
        "\n",
        "  # Compile model\n",
        "  model.compile(loss='sparse_categorical_crossentropy', optimizer=optimizer, metrics=['accuracy'])\n",
        "  return model\n",
        "search_model = KerasClassifier(build_fn=create_model, epochs=20)"
      ],
      "metadata": {
        "colab": {
          "base_uri": "https://localhost:8080/"
        },
        "id": "Hu4YN-C21jLJ",
        "outputId": "e7b5652f-5694-488d-84b9-6f18dbffbc42"
      },
      "execution_count": null,
      "outputs": [
        {
          "output_type": "stream",
          "name": "stderr",
          "text": [
            "/usr/local/lib/python3.7/dist-packages/ipykernel_launcher.py:13: DeprecationWarning: KerasClassifier is deprecated, use Sci-Keras (https://github.com/adriangb/scikeras) instead.\n",
            "  del sys.path[0]\n"
          ]
        }
      ]
    },
    {
      "cell_type": "code",
      "source": [
        "optimizer = ['SGD', 'RMSprop', 'Adagrad', 'Adadelta', 'Adam', 'Adamax', 'Nadam']\n",
        "activation = ['softmax', 'softplus', 'softsign', 'relu', 'tanh', 'sigmoid', 'hard_sigmoid', 'linear']\n",
        "\n",
        "param_grid = dict(optimizer=optimizer, activation=activation)\n",
        "\n",
        "grid = GridSearchCV(estimator=search_model, param_grid=param_grid, n_jobs=-1, cv=3)\n",
        "grid_result = grid.fit(X, y)\n",
        "\n"
      ],
      "metadata": {
        "colab": {
          "base_uri": "https://localhost:8080/"
        },
        "id": "br3ufhvmzO4p",
        "outputId": "16730a44-2183-4ea4-f107-ca55af72066d"
      },
      "execution_count": null,
      "outputs": [
        {
          "output_type": "stream",
          "name": "stdout",
          "text": [
            "Epoch 1/20\n",
            "12/12 [==============================] - 1s 3ms/step - loss: 1.1235 - accuracy: 0.4395\n",
            "Epoch 2/20\n",
            "12/12 [==============================] - 0s 2ms/step - loss: 1.0780 - accuracy: 0.4553\n",
            "Epoch 3/20\n",
            "12/12 [==============================] - 0s 3ms/step - loss: 1.0618 - accuracy: 0.4237\n",
            "Epoch 4/20\n",
            "12/12 [==============================] - 0s 3ms/step - loss: 1.0686 - accuracy: 0.4658\n",
            "Epoch 5/20\n",
            "12/12 [==============================] - 0s 2ms/step - loss: 1.0660 - accuracy: 0.4526\n",
            "Epoch 6/20\n",
            "12/12 [==============================] - 0s 3ms/step - loss: 1.0553 - accuracy: 0.4763\n",
            "Epoch 7/20\n",
            "12/12 [==============================] - 0s 3ms/step - loss: 1.0497 - accuracy: 0.4553\n",
            "Epoch 8/20\n",
            "12/12 [==============================] - 0s 3ms/step - loss: 1.0406 - accuracy: 0.4842\n",
            "Epoch 9/20\n",
            "12/12 [==============================] - 0s 3ms/step - loss: 1.0502 - accuracy: 0.4579\n",
            "Epoch 10/20\n",
            "12/12 [==============================] - 0s 3ms/step - loss: 1.0471 - accuracy: 0.4526\n",
            "Epoch 11/20\n",
            "12/12 [==============================] - 0s 3ms/step - loss: 1.0291 - accuracy: 0.4816\n",
            "Epoch 12/20\n",
            "12/12 [==============================] - 0s 3ms/step - loss: 1.0301 - accuracy: 0.4658\n",
            "Epoch 13/20\n",
            "12/12 [==============================] - 0s 3ms/step - loss: 1.0298 - accuracy: 0.5132\n",
            "Epoch 14/20\n",
            "12/12 [==============================] - 0s 3ms/step - loss: 1.0282 - accuracy: 0.4711\n",
            "Epoch 15/20\n",
            "12/12 [==============================] - 0s 3ms/step - loss: 1.0227 - accuracy: 0.5000\n",
            "Epoch 16/20\n",
            "12/12 [==============================] - 0s 3ms/step - loss: 1.0229 - accuracy: 0.4553\n",
            "Epoch 17/20\n",
            "12/12 [==============================] - 0s 3ms/step - loss: 1.0357 - accuracy: 0.4763\n",
            "Epoch 18/20\n",
            "12/12 [==============================] - 0s 3ms/step - loss: 1.0143 - accuracy: 0.4632\n",
            "Epoch 19/20\n",
            "12/12 [==============================] - 0s 3ms/step - loss: 1.0218 - accuracy: 0.4711\n",
            "Epoch 20/20\n",
            "12/12 [==============================] - 0s 3ms/step - loss: 1.0145 - accuracy: 0.5132\n"
          ]
        }
      ]
    },
    {
      "cell_type": "code",
      "source": [
        "print(\"Best: %f using %s\" % (grid_result.best_score_, grid_result.best_params_))\n",
        "means = grid_result.cv_results_['mean_test_score']\n",
        "stds = grid_result.cv_results_['std_test_score']\n",
        "params = grid_result.cv_results_['params']\n",
        "for mean, stdev, param in zip(means, stds, params):\n",
        "    print(\"%f (%f) with: %r\" % (mean, stdev, param))\n"
      ],
      "metadata": {
        "colab": {
          "base_uri": "https://localhost:8080/"
        },
        "id": "g2HQjkk85aTu",
        "outputId": "a7e79ed4-3fd3-4138-ab05-9756d55956b3"
      },
      "execution_count": null,
      "outputs": [
        {
          "output_type": "stream",
          "name": "stdout",
          "text": [
            "Best: 0.484439 using {'activation': 'sigmoid', 'optimizer': 'RMSprop'}\n",
            "0.452756 (0.033561) with: {'activation': 'softmax', 'optimizer': 'SGD'}\n",
            "0.452756 (0.033561) with: {'activation': 'softmax', 'optimizer': 'RMSprop'}\n",
            "0.452756 (0.033561) with: {'activation': 'softmax', 'optimizer': 'Adagrad'}\n",
            "0.326230 (0.071328) with: {'activation': 'softmax', 'optimizer': 'Adadelta'}\n",
            "0.452756 (0.033561) with: {'activation': 'softmax', 'optimizer': 'Adam'}\n",
            "0.452756 (0.033561) with: {'activation': 'softmax', 'optimizer': 'Adamax'}\n",
            "0.452756 (0.033561) with: {'activation': 'softmax', 'optimizer': 'Nadam'}\n",
            "0.450173 (0.046457) with: {'activation': 'softplus', 'optimizer': 'SGD'}\n",
            "0.436800 (0.014955) with: {'activation': 'softplus', 'optimizer': 'RMSprop'}\n",
            "0.452756 (0.033561) with: {'activation': 'softplus', 'optimizer': 'Adagrad'}\n",
            "0.315544 (0.096725) with: {'activation': 'softplus', 'optimizer': 'Adadelta'}\n",
            "0.436883 (0.025029) with: {'activation': 'softplus', 'optimizer': 'Adam'}\n",
            "0.431800 (0.076545) with: {'activation': 'softplus', 'optimizer': 'Adamax'}\n",
            "0.442216 (0.031165) with: {'activation': 'softplus', 'optimizer': 'Nadam'}\n",
            "0.426488 (0.053022) with: {'activation': 'softsign', 'optimizer': 'SGD'}\n",
            "0.376182 (0.036482) with: {'activation': 'softsign', 'optimizer': 'RMSprop'}\n",
            "0.392263 (0.046680) with: {'activation': 'softsign', 'optimizer': 'Adagrad'}\n",
            "0.316023 (0.064774) with: {'activation': 'softsign', 'optimizer': 'Adadelta'}\n",
            "0.389451 (0.032702) with: {'activation': 'softsign', 'optimizer': 'Adam'}\n",
            "0.389472 (0.016078) with: {'activation': 'softsign', 'optimizer': 'Adamax'}\n",
            "0.418594 (0.050193) with: {'activation': 'softsign', 'optimizer': 'Nadam'}\n",
            "0.365829 (0.011166) with: {'activation': 'relu', 'optimizer': 'SGD'}\n",
            "0.355143 (0.032258) with: {'activation': 'relu', 'optimizer': 'RMSprop'}\n",
            "0.405428 (0.053014) with: {'activation': 'relu', 'optimizer': 'Adagrad'}\n",
            "0.336541 (0.086993) with: {'activation': 'relu', 'optimizer': 'Adadelta'}\n",
            "0.349977 (0.008902) with: {'activation': 'relu', 'optimizer': 'Adam'}\n",
            "0.418469 (0.014284) with: {'activation': 'relu', 'optimizer': 'Adamax'}\n",
            "0.368308 (0.034337) with: {'activation': 'relu', 'optimizer': 'Nadam'}\n",
            "0.415844 (0.014961) with: {'activation': 'tanh', 'optimizer': 'SGD'}\n",
            "0.331479 (0.049617) with: {'activation': 'tanh', 'optimizer': 'RMSprop'}\n",
            "0.423760 (0.021235) with: {'activation': 'tanh', 'optimizer': 'Adagrad'}\n",
            "0.371329 (0.082148) with: {'activation': 'tanh', 'optimizer': 'Adadelta'}\n",
            "0.368329 (0.040567) with: {'activation': 'tanh', 'optimizer': 'Adam'}\n",
            "0.381556 (0.026416) with: {'activation': 'tanh', 'optimizer': 'Adamax'}\n",
            "0.355226 (0.021665) with: {'activation': 'tanh', 'optimizer': 'Nadam'}\n",
            "0.452756 (0.033561) with: {'activation': 'sigmoid', 'optimizer': 'SGD'}\n",
            "0.484439 (0.061846) with: {'activation': 'sigmoid', 'optimizer': 'RMSprop'}\n",
            "0.452756 (0.033561) with: {'activation': 'sigmoid', 'optimizer': 'Adagrad'}\n",
            "0.270904 (0.042049) with: {'activation': 'sigmoid', 'optimizer': 'Adadelta'}\n",
            "0.442278 (0.056470) with: {'activation': 'sigmoid', 'optimizer': 'Adam'}\n",
            "0.452777 (0.043512) with: {'activation': 'sigmoid', 'optimizer': 'Adamax'}\n",
            "0.471295 (0.066449) with: {'activation': 'sigmoid', 'optimizer': 'Nadam'}\n",
            "0.452756 (0.033561) with: {'activation': 'hard_sigmoid', 'optimizer': 'SGD'}\n",
            "0.434425 (0.057593) with: {'activation': 'hard_sigmoid', 'optimizer': 'RMSprop'}\n",
            "0.452756 (0.033561) with: {'activation': 'hard_sigmoid', 'optimizer': 'Adagrad'}\n",
            "0.289485 (0.022694) with: {'activation': 'hard_sigmoid', 'optimizer': 'Adadelta'}\n",
            "0.460755 (0.061758) with: {'activation': 'hard_sigmoid', 'optimizer': 'Adam'}\n",
            "0.450131 (0.035844) with: {'activation': 'hard_sigmoid', 'optimizer': 'Adamax'}\n",
            "0.465942 (0.042040) with: {'activation': 'hard_sigmoid', 'optimizer': 'Nadam'}\n",
            "0.442174 (0.020811) with: {'activation': 'linear', 'optimizer': 'SGD'}\n",
            "0.365663 (0.044707) with: {'activation': 'linear', 'optimizer': 'RMSprop'}\n",
            "0.439674 (0.053881) with: {'activation': 'linear', 'optimizer': 'Adagrad'}\n",
            "0.362975 (0.060442) with: {'activation': 'linear', 'optimizer': 'Adadelta'}\n",
            "0.365871 (0.047174) with: {'activation': 'linear', 'optimizer': 'Adam'}\n",
            "0.418489 (0.020732) with: {'activation': 'linear', 'optimizer': 'Adamax'}\n",
            "0.392138 (0.015653) with: {'activation': 'linear', 'optimizer': 'Nadam'}\n"
          ]
        }
      ]
    },
    {
      "cell_type": "code",
      "source": [
        "hist_search = grid.best_estimator_.fit(X_train, y_train, epochs=20, validation_data=(X_valid, y_valid))"
      ],
      "metadata": {
        "colab": {
          "base_uri": "https://localhost:8080/"
        },
        "id": "YIjGmp367xes",
        "outputId": "17bf19a6-0dfa-445e-cbef-793a89df473a"
      },
      "execution_count": null,
      "outputs": [
        {
          "output_type": "stream",
          "name": "stdout",
          "text": [
            "Epoch 1/20\n",
            "11/11 [==============================] - 1s 19ms/step - loss: 1.1386 - accuracy: 0.4114 - val_loss: 1.1685 - val_accuracy: 0.3333\n",
            "Epoch 2/20\n",
            "11/11 [==============================] - 0s 5ms/step - loss: 1.0695 - accuracy: 0.4400 - val_loss: 1.1482 - val_accuracy: 0.3333\n",
            "Epoch 3/20\n",
            "11/11 [==============================] - 0s 5ms/step - loss: 1.0667 - accuracy: 0.4343 - val_loss: 1.1466 - val_accuracy: 0.3333\n",
            "Epoch 4/20\n",
            "11/11 [==============================] - 0s 5ms/step - loss: 1.0604 - accuracy: 0.4514 - val_loss: 1.1357 - val_accuracy: 0.3333\n",
            "Epoch 5/20\n",
            "11/11 [==============================] - 0s 5ms/step - loss: 1.0687 - accuracy: 0.4686 - val_loss: 1.1136 - val_accuracy: 0.3333\n",
            "Epoch 6/20\n",
            "11/11 [==============================] - 0s 5ms/step - loss: 1.0451 - accuracy: 0.4829 - val_loss: 1.1130 - val_accuracy: 0.3333\n",
            "Epoch 7/20\n",
            "11/11 [==============================] - 0s 4ms/step - loss: 1.0516 - accuracy: 0.4714 - val_loss: 1.1144 - val_accuracy: 0.3333\n",
            "Epoch 8/20\n",
            "11/11 [==============================] - 0s 5ms/step - loss: 1.0323 - accuracy: 0.5029 - val_loss: 1.1357 - val_accuracy: 0.3333\n",
            "Epoch 9/20\n",
            "11/11 [==============================] - 0s 5ms/step - loss: 1.0326 - accuracy: 0.4914 - val_loss: 1.1774 - val_accuracy: 0.3333\n",
            "Epoch 10/20\n",
            "11/11 [==============================] - 0s 4ms/step - loss: 1.0258 - accuracy: 0.5029 - val_loss: 1.1135 - val_accuracy: 0.3333\n",
            "Epoch 11/20\n",
            "11/11 [==============================] - 0s 5ms/step - loss: 1.0367 - accuracy: 0.4686 - val_loss: 1.1989 - val_accuracy: 0.3333\n",
            "Epoch 12/20\n",
            "11/11 [==============================] - 0s 5ms/step - loss: 1.0273 - accuracy: 0.4829 - val_loss: 1.1409 - val_accuracy: 0.3333\n",
            "Epoch 13/20\n",
            "11/11 [==============================] - 0s 6ms/step - loss: 1.0134 - accuracy: 0.5114 - val_loss: 1.1839 - val_accuracy: 0.3333\n",
            "Epoch 14/20\n",
            "11/11 [==============================] - 0s 5ms/step - loss: 1.0206 - accuracy: 0.4971 - val_loss: 1.2011 - val_accuracy: 0.3333\n",
            "Epoch 15/20\n",
            "11/11 [==============================] - 0s 5ms/step - loss: 1.0264 - accuracy: 0.4914 - val_loss: 1.1351 - val_accuracy: 0.3333\n",
            "Epoch 16/20\n",
            "11/11 [==============================] - 0s 5ms/step - loss: 1.0086 - accuracy: 0.5057 - val_loss: 1.0966 - val_accuracy: 0.3667\n",
            "Epoch 17/20\n",
            "11/11 [==============================] - 0s 5ms/step - loss: 1.0262 - accuracy: 0.5000 - val_loss: 1.1192 - val_accuracy: 0.3333\n",
            "Epoch 18/20\n",
            "11/11 [==============================] - 0s 5ms/step - loss: 1.0089 - accuracy: 0.5114 - val_loss: 1.2353 - val_accuracy: 0.3333\n",
            "Epoch 19/20\n",
            "11/11 [==============================] - 0s 5ms/step - loss: 1.0221 - accuracy: 0.4943 - val_loss: 1.1165 - val_accuracy: 0.3333\n",
            "Epoch 20/20\n",
            "11/11 [==============================] - 0s 5ms/step - loss: 1.0131 - accuracy: 0.4943 - val_loss: 1.1031 - val_accuracy: 0.3333\n"
          ]
        }
      ]
    },
    {
      "cell_type": "code",
      "source": [
        "from sklearn.svm import SVC\n",
        "from sklearn.ensemble import RandomForestClassifier\n",
        "from xgboost import XGBClassifier"
      ],
      "metadata": {
        "id": "owBpjCviNE-8"
      },
      "execution_count": null,
      "outputs": []
    },
    {
      "cell_type": "code",
      "source": [
        "rfc = RandomForestClassifier(n_estimators=50)\n",
        "xgbc = XGBClassifier(max_depth=5)\n",
        "svc = SVC(C=0.1)\n",
        "acc = cross_val_score(rfc, X, y, cv=5)\n",
        "acc2 = cross_val_score(xgbc, X, y, cv=5)\n",
        "acc3 = cross_val_score(svc, X, y, cv=5)\n",
        "print('Accuracy score for Random Forest Classifier, XGB Classifier, Support Vector Machines, respectively:\\n', acc.mean(), acc2.mean(), acc3.mean())"
      ],
      "metadata": {
        "id": "s6L7abOeOnCL",
        "colab": {
          "base_uri": "https://localhost:8080/"
        },
        "outputId": "5d49c161-30d3-4608-f2fe-eb50cf7c4cf1"
      },
      "execution_count": null,
      "outputs": [
        {
          "output_type": "stream",
          "name": "stderr",
          "text": [
            "/usr/local/lib/python3.7/dist-packages/sklearn/model_selection/_validation.py:681: DataConversionWarning: A column-vector y was passed when a 1d array was expected. Please change the shape of y to (n_samples,), for example using ravel().\n",
            "  estimator.fit(X_train, y_train, **fit_params)\n",
            "/usr/local/lib/python3.7/dist-packages/sklearn/model_selection/_validation.py:681: DataConversionWarning: A column-vector y was passed when a 1d array was expected. Please change the shape of y to (n_samples,), for example using ravel().\n",
            "  estimator.fit(X_train, y_train, **fit_params)\n",
            "/usr/local/lib/python3.7/dist-packages/sklearn/model_selection/_validation.py:681: DataConversionWarning: A column-vector y was passed when a 1d array was expected. Please change the shape of y to (n_samples,), for example using ravel().\n",
            "  estimator.fit(X_train, y_train, **fit_params)\n",
            "/usr/local/lib/python3.7/dist-packages/sklearn/model_selection/_validation.py:681: DataConversionWarning: A column-vector y was passed when a 1d array was expected. Please change the shape of y to (n_samples,), for example using ravel().\n",
            "  estimator.fit(X_train, y_train, **fit_params)\n",
            "/usr/local/lib/python3.7/dist-packages/sklearn/model_selection/_validation.py:681: DataConversionWarning: A column-vector y was passed when a 1d array was expected. Please change the shape of y to (n_samples,), for example using ravel().\n",
            "  estimator.fit(X_train, y_train, **fit_params)\n",
            "/usr/local/lib/python3.7/dist-packages/sklearn/preprocessing/_label.py:98: DataConversionWarning: A column-vector y was passed when a 1d array was expected. Please change the shape of y to (n_samples, ), for example using ravel().\n",
            "  y = column_or_1d(y, warn=True)\n",
            "/usr/local/lib/python3.7/dist-packages/sklearn/preprocessing/_label.py:133: DataConversionWarning: A column-vector y was passed when a 1d array was expected. Please change the shape of y to (n_samples, ), for example using ravel().\n",
            "  y = column_or_1d(y, warn=True)\n",
            "/usr/local/lib/python3.7/dist-packages/sklearn/preprocessing/_label.py:98: DataConversionWarning: A column-vector y was passed when a 1d array was expected. Please change the shape of y to (n_samples, ), for example using ravel().\n",
            "  y = column_or_1d(y, warn=True)\n",
            "/usr/local/lib/python3.7/dist-packages/sklearn/preprocessing/_label.py:133: DataConversionWarning: A column-vector y was passed when a 1d array was expected. Please change the shape of y to (n_samples, ), for example using ravel().\n",
            "  y = column_or_1d(y, warn=True)\n",
            "/usr/local/lib/python3.7/dist-packages/sklearn/preprocessing/_label.py:98: DataConversionWarning: A column-vector y was passed when a 1d array was expected. Please change the shape of y to (n_samples, ), for example using ravel().\n",
            "  y = column_or_1d(y, warn=True)\n",
            "/usr/local/lib/python3.7/dist-packages/sklearn/preprocessing/_label.py:133: DataConversionWarning: A column-vector y was passed when a 1d array was expected. Please change the shape of y to (n_samples, ), for example using ravel().\n",
            "  y = column_or_1d(y, warn=True)\n",
            "/usr/local/lib/python3.7/dist-packages/sklearn/preprocessing/_label.py:98: DataConversionWarning: A column-vector y was passed when a 1d array was expected. Please change the shape of y to (n_samples, ), for example using ravel().\n",
            "  y = column_or_1d(y, warn=True)\n",
            "/usr/local/lib/python3.7/dist-packages/sklearn/preprocessing/_label.py:133: DataConversionWarning: A column-vector y was passed when a 1d array was expected. Please change the shape of y to (n_samples, ), for example using ravel().\n",
            "  y = column_or_1d(y, warn=True)\n",
            "/usr/local/lib/python3.7/dist-packages/sklearn/preprocessing/_label.py:98: DataConversionWarning: A column-vector y was passed when a 1d array was expected. Please change the shape of y to (n_samples, ), for example using ravel().\n",
            "  y = column_or_1d(y, warn=True)\n",
            "/usr/local/lib/python3.7/dist-packages/sklearn/preprocessing/_label.py:133: DataConversionWarning: A column-vector y was passed when a 1d array was expected. Please change the shape of y to (n_samples, ), for example using ravel().\n",
            "  y = column_or_1d(y, warn=True)\n",
            "/usr/local/lib/python3.7/dist-packages/sklearn/utils/validation.py:985: DataConversionWarning: A column-vector y was passed when a 1d array was expected. Please change the shape of y to (n_samples, ), for example using ravel().\n",
            "  y = column_or_1d(y, warn=True)\n",
            "/usr/local/lib/python3.7/dist-packages/sklearn/utils/validation.py:985: DataConversionWarning: A column-vector y was passed when a 1d array was expected. Please change the shape of y to (n_samples, ), for example using ravel().\n",
            "  y = column_or_1d(y, warn=True)\n"
          ]
        },
        {
          "output_type": "stream",
          "name": "stdout",
          "text": [
            "Accuracy score for Random Forest Classifier, XGB Classifier, Support Vector Machines, respectively:\n",
            " 0.44210526315789467 0.45 0.4526315789473684\n"
          ]
        },
        {
          "output_type": "stream",
          "name": "stderr",
          "text": [
            "/usr/local/lib/python3.7/dist-packages/sklearn/utils/validation.py:985: DataConversionWarning: A column-vector y was passed when a 1d array was expected. Please change the shape of y to (n_samples, ), for example using ravel().\n",
            "  y = column_or_1d(y, warn=True)\n",
            "/usr/local/lib/python3.7/dist-packages/sklearn/utils/validation.py:985: DataConversionWarning: A column-vector y was passed when a 1d array was expected. Please change the shape of y to (n_samples, ), for example using ravel().\n",
            "  y = column_or_1d(y, warn=True)\n",
            "/usr/local/lib/python3.7/dist-packages/sklearn/utils/validation.py:985: DataConversionWarning: A column-vector y was passed when a 1d array was expected. Please change the shape of y to (n_samples, ), for example using ravel().\n",
            "  y = column_or_1d(y, warn=True)\n"
          ]
        }
      ]
    },
    {
      "cell_type": "markdown",
      "source": [
        "TRAINING USING 2021 DATA"
      ],
      "metadata": {
        "id": "3Nn47wGm_2mR"
      }
    },
    {
      "cell_type": "code",
      "source": [
        "df2 = clean_data(epl21[usable])"
      ],
      "metadata": {
        "colab": {
          "base_uri": "https://localhost:8080/"
        },
        "id": "4qcy5TjE2y4g",
        "outputId": "c9235223-1eff-4449-da1c-ceb73077e2b4"
      },
      "execution_count": null,
      "outputs": [
        {
          "output_type": "stream",
          "name": "stderr",
          "text": [
            "/usr/local/lib/python3.7/dist-packages/pandas/core/indexing.py:1596: SettingWithCopyWarning: \n",
            "A value is trying to be set on a copy of a slice from a DataFrame.\n",
            "Try using .loc[row_indexer,col_indexer] = value instead\n",
            "\n",
            "See the caveats in the documentation: https://pandas.pydata.org/pandas-docs/stable/user_guide/indexing.html#returning-a-view-versus-a-copy\n",
            "  self.obj[key] = _infer_fill_value(value)\n",
            "/usr/local/lib/python3.7/dist-packages/pandas/core/indexing.py:1743: SettingWithCopyWarning: \n",
            "A value is trying to be set on a copy of a slice from a DataFrame.\n",
            "Try using .loc[row_indexer,col_indexer] = value instead\n",
            "\n",
            "See the caveats in the documentation: https://pandas.pydata.org/pandas-docs/stable/user_guide/indexing.html#returning-a-view-versus-a-copy\n",
            "  isetter(ilocs[0], value)\n"
          ]
        }
      ]
    },
    {
      "cell_type": "code",
      "source": [
        "cat = pipeline.transformers_[0][1].categories_\n",
        "for i in range(len(cat)):\n",
        "  cat[i] = np.append(cat[i], list(set(df2.HomeTeam.unique())-set(cat[i])))\n",
        "\n",
        "pipeline.transformers_[0][1].categories_ = cat"
      ],
      "metadata": {
        "id": "BglxWPp4dlG0"
      },
      "execution_count": null,
      "outputs": []
    },
    {
      "cell_type": "code",
      "source": [
        "X1 = pipeline.transform(df2)\n",
        "\n",
        "y1 = enc_ftr.transform(df2[['FTR']])"
      ],
      "metadata": {
        "id": "vzTi5zcSzKwz"
      },
      "execution_count": null,
      "outputs": []
    },
    {
      "cell_type": "code",
      "source": [
        "X_train1, X_valid1, y_train1, y_valid1 = train_test_split(X1, y1, test_size=0.2)"
      ],
      "metadata": {
        "id": "7fDtr9mNqP9S"
      },
      "execution_count": null,
      "outputs": []
    },
    {
      "cell_type": "code",
      "source": [
        "hist1 = model.fit(X_train1, y_train1, epochs=20, validation_data=(X_valid1, y_valid1))"
      ],
      "metadata": {
        "colab": {
          "base_uri": "https://localhost:8080/"
        },
        "id": "C3HuSiWrsD5j",
        "outputId": "3b2b8a9c-4025-4866-e27e-3a253060cda9"
      },
      "execution_count": null,
      "outputs": [
        {
          "output_type": "stream",
          "name": "stdout",
          "text": [
            "Epoch 1/20\n",
            "10/10 [==============================] - 0s 10ms/step - loss: 1.0642 - accuracy: 0.4836 - val_loss: 1.3116 - val_accuracy: 0.3684\n",
            "Epoch 2/20\n",
            "10/10 [==============================] - 0s 5ms/step - loss: 1.0454 - accuracy: 0.4605 - val_loss: 1.2054 - val_accuracy: 0.3684\n",
            "Epoch 3/20\n",
            "10/10 [==============================] - 0s 5ms/step - loss: 0.9545 - accuracy: 0.5395 - val_loss: 1.1814 - val_accuracy: 0.4211\n",
            "Epoch 4/20\n",
            "10/10 [==============================] - 0s 5ms/step - loss: 0.9357 - accuracy: 0.5493 - val_loss: 1.3324 - val_accuracy: 0.3684\n",
            "Epoch 5/20\n",
            "10/10 [==============================] - 0s 7ms/step - loss: 0.9236 - accuracy: 0.5362 - val_loss: 1.2108 - val_accuracy: 0.4211\n",
            "Epoch 6/20\n",
            "10/10 [==============================] - 0s 5ms/step - loss: 0.8988 - accuracy: 0.5724 - val_loss: 1.2153 - val_accuracy: 0.3684\n",
            "Epoch 7/20\n",
            "10/10 [==============================] - 0s 5ms/step - loss: 0.9061 - accuracy: 0.5625 - val_loss: 1.2651 - val_accuracy: 0.4079\n",
            "Epoch 8/20\n",
            "10/10 [==============================] - 0s 5ms/step - loss: 0.8909 - accuracy: 0.5493 - val_loss: 1.2082 - val_accuracy: 0.4342\n",
            "Epoch 9/20\n",
            "10/10 [==============================] - 0s 6ms/step - loss: 0.8783 - accuracy: 0.5888 - val_loss: 1.2970 - val_accuracy: 0.3816\n",
            "Epoch 10/20\n",
            "10/10 [==============================] - 0s 4ms/step - loss: 0.8511 - accuracy: 0.5822 - val_loss: 1.2186 - val_accuracy: 0.4342\n",
            "Epoch 11/20\n",
            "10/10 [==============================] - 0s 4ms/step - loss: 0.8488 - accuracy: 0.6118 - val_loss: 1.2878 - val_accuracy: 0.3816\n",
            "Epoch 12/20\n",
            "10/10 [==============================] - 0s 5ms/step - loss: 0.8340 - accuracy: 0.5789 - val_loss: 1.2697 - val_accuracy: 0.4079\n",
            "Epoch 13/20\n",
            "10/10 [==============================] - 0s 6ms/step - loss: 0.8623 - accuracy: 0.6151 - val_loss: 1.2593 - val_accuracy: 0.4211\n",
            "Epoch 14/20\n",
            "10/10 [==============================] - 0s 6ms/step - loss: 0.8047 - accuracy: 0.6283 - val_loss: 1.3093 - val_accuracy: 0.4211\n",
            "Epoch 15/20\n",
            "10/10 [==============================] - 0s 5ms/step - loss: 0.8016 - accuracy: 0.6118 - val_loss: 1.3280 - val_accuracy: 0.4079\n",
            "Epoch 16/20\n",
            "10/10 [==============================] - 0s 5ms/step - loss: 0.7956 - accuracy: 0.6184 - val_loss: 1.3161 - val_accuracy: 0.3947\n",
            "Epoch 17/20\n",
            "10/10 [==============================] - 0s 4ms/step - loss: 0.8023 - accuracy: 0.6151 - val_loss: 1.2976 - val_accuracy: 0.4211\n",
            "Epoch 18/20\n",
            "10/10 [==============================] - 0s 5ms/step - loss: 0.7727 - accuracy: 0.6382 - val_loss: 1.3805 - val_accuracy: 0.3684\n",
            "Epoch 19/20\n",
            "10/10 [==============================] - 0s 6ms/step - loss: 0.7807 - accuracy: 0.6250 - val_loss: 1.3831 - val_accuracy: 0.3947\n",
            "Epoch 20/20\n",
            "10/10 [==============================] - 0s 5ms/step - loss: 0.7621 - accuracy: 0.6513 - val_loss: 1.3411 - val_accuracy: 0.3947\n"
          ]
        }
      ]
    },
    {
      "cell_type": "markdown",
      "source": [
        "TESTING ON THIS SEASON MATCHES"
      ],
      "metadata": {
        "id": "4eBI05-M_Leu"
      }
    },
    {
      "cell_type": "code",
      "source": [
        "df3 = clean_data(epl22[usable])"
      ],
      "metadata": {
        "id": "YWyapL_Xs0wf",
        "colab": {
          "base_uri": "https://localhost:8080/"
        },
        "outputId": "84b12ccf-6c8d-4909-9815-21dd8e73eb34"
      },
      "execution_count": null,
      "outputs": [
        {
          "output_type": "stream",
          "name": "stderr",
          "text": [
            "/usr/local/lib/python3.7/dist-packages/pandas/core/indexing.py:1596: SettingWithCopyWarning: \n",
            "A value is trying to be set on a copy of a slice from a DataFrame.\n",
            "Try using .loc[row_indexer,col_indexer] = value instead\n",
            "\n",
            "See the caveats in the documentation: https://pandas.pydata.org/pandas-docs/stable/user_guide/indexing.html#returning-a-view-versus-a-copy\n",
            "  self.obj[key] = _infer_fill_value(value)\n",
            "/usr/local/lib/python3.7/dist-packages/pandas/core/indexing.py:1743: SettingWithCopyWarning: \n",
            "A value is trying to be set on a copy of a slice from a DataFrame.\n",
            "Try using .loc[row_indexer,col_indexer] = value instead\n",
            "\n",
            "See the caveats in the documentation: https://pandas.pydata.org/pandas-docs/stable/user_guide/indexing.html#returning-a-view-versus-a-copy\n",
            "  isetter(ilocs[0], value)\n"
          ]
        }
      ]
    },
    {
      "cell_type": "code",
      "source": [
        "df3"
      ],
      "metadata": {
        "colab": {
          "base_uri": "https://localhost:8080/",
          "height": 424
        },
        "id": "hrJbIUyT_b_V",
        "outputId": "73589836-ba1f-4388-8098-9219ce177ab0"
      },
      "execution_count": null,
      "outputs": [
        {
          "output_type": "execute_result",
          "data": {
            "text/html": [
              "\n",
              "  <div id=\"df-1c21aaea-a6ee-4df5-b75b-93092b4f3ad6\">\n",
              "    <div class=\"colab-df-container\">\n",
              "      <div>\n",
              "<style scoped>\n",
              "    .dataframe tbody tr th:only-of-type {\n",
              "        vertical-align: middle;\n",
              "    }\n",
              "\n",
              "    .dataframe tbody tr th {\n",
              "        vertical-align: top;\n",
              "    }\n",
              "\n",
              "    .dataframe thead th {\n",
              "        text-align: right;\n",
              "    }\n",
              "</style>\n",
              "<table border=\"1\" class=\"dataframe\">\n",
              "  <thead>\n",
              "    <tr style=\"text-align: right;\">\n",
              "      <th></th>\n",
              "      <th>HomeTeam</th>\n",
              "      <th>AwayTeam</th>\n",
              "      <th>FTR</th>\n",
              "      <th>HF</th>\n",
              "      <th>AF</th>\n",
              "      <th>HP</th>\n",
              "      <th>AP</th>\n",
              "      <th>HGS</th>\n",
              "      <th>AGS</th>\n",
              "      <th>HS</th>\n",
              "      <th>AS</th>\n",
              "      <th>HST</th>\n",
              "      <th>AST</th>\n",
              "      <th>HGC</th>\n",
              "      <th>AGC</th>\n",
              "      <th>HC</th>\n",
              "      <th>AC</th>\n",
              "    </tr>\n",
              "  </thead>\n",
              "  <tbody>\n",
              "    <tr>\n",
              "      <th>0</th>\n",
              "      <td>Brentford</td>\n",
              "      <td>Arsenal</td>\n",
              "      <td>H</td>\n",
              "      <td>0.0</td>\n",
              "      <td>0.0</td>\n",
              "      <td>0.0</td>\n",
              "      <td>0.0</td>\n",
              "      <td>0.0</td>\n",
              "      <td>0.0</td>\n",
              "      <td>0.0</td>\n",
              "      <td>0.0</td>\n",
              "      <td>0.0</td>\n",
              "      <td>0.0</td>\n",
              "      <td>0.0</td>\n",
              "      <td>0.0</td>\n",
              "      <td>0.0</td>\n",
              "      <td>0.0</td>\n",
              "    </tr>\n",
              "    <tr>\n",
              "      <th>1</th>\n",
              "      <td>Man United</td>\n",
              "      <td>Leeds</td>\n",
              "      <td>H</td>\n",
              "      <td>0.0</td>\n",
              "      <td>0.0</td>\n",
              "      <td>0.0</td>\n",
              "      <td>0.0</td>\n",
              "      <td>0.0</td>\n",
              "      <td>0.0</td>\n",
              "      <td>0.0</td>\n",
              "      <td>0.0</td>\n",
              "      <td>0.0</td>\n",
              "      <td>0.0</td>\n",
              "      <td>0.0</td>\n",
              "      <td>0.0</td>\n",
              "      <td>0.0</td>\n",
              "      <td>0.0</td>\n",
              "    </tr>\n",
              "    <tr>\n",
              "      <th>2</th>\n",
              "      <td>Burnley</td>\n",
              "      <td>Brighton</td>\n",
              "      <td>A</td>\n",
              "      <td>0.0</td>\n",
              "      <td>0.0</td>\n",
              "      <td>0.0</td>\n",
              "      <td>0.0</td>\n",
              "      <td>0.0</td>\n",
              "      <td>0.0</td>\n",
              "      <td>0.0</td>\n",
              "      <td>0.0</td>\n",
              "      <td>0.0</td>\n",
              "      <td>0.0</td>\n",
              "      <td>0.0</td>\n",
              "      <td>0.0</td>\n",
              "      <td>0.0</td>\n",
              "      <td>0.0</td>\n",
              "    </tr>\n",
              "    <tr>\n",
              "      <th>3</th>\n",
              "      <td>Chelsea</td>\n",
              "      <td>Crystal Palace</td>\n",
              "      <td>H</td>\n",
              "      <td>0.0</td>\n",
              "      <td>0.0</td>\n",
              "      <td>0.0</td>\n",
              "      <td>0.0</td>\n",
              "      <td>0.0</td>\n",
              "      <td>0.0</td>\n",
              "      <td>0.0</td>\n",
              "      <td>0.0</td>\n",
              "      <td>0.0</td>\n",
              "      <td>0.0</td>\n",
              "      <td>0.0</td>\n",
              "      <td>0.0</td>\n",
              "      <td>0.0</td>\n",
              "      <td>0.0</td>\n",
              "    </tr>\n",
              "    <tr>\n",
              "      <th>4</th>\n",
              "      <td>Everton</td>\n",
              "      <td>Southampton</td>\n",
              "      <td>H</td>\n",
              "      <td>0.0</td>\n",
              "      <td>0.0</td>\n",
              "      <td>0.0</td>\n",
              "      <td>0.0</td>\n",
              "      <td>0.0</td>\n",
              "      <td>0.0</td>\n",
              "      <td>0.0</td>\n",
              "      <td>0.0</td>\n",
              "      <td>0.0</td>\n",
              "      <td>0.0</td>\n",
              "      <td>0.0</td>\n",
              "      <td>0.0</td>\n",
              "      <td>0.0</td>\n",
              "      <td>0.0</td>\n",
              "    </tr>\n",
              "    <tr>\n",
              "      <th>...</th>\n",
              "      <td>...</td>\n",
              "      <td>...</td>\n",
              "      <td>...</td>\n",
              "      <td>...</td>\n",
              "      <td>...</td>\n",
              "      <td>...</td>\n",
              "      <td>...</td>\n",
              "      <td>...</td>\n",
              "      <td>...</td>\n",
              "      <td>...</td>\n",
              "      <td>...</td>\n",
              "      <td>...</td>\n",
              "      <td>...</td>\n",
              "      <td>...</td>\n",
              "      <td>...</td>\n",
              "      <td>...</td>\n",
              "      <td>...</td>\n",
              "    </tr>\n",
              "    <tr>\n",
              "      <th>178</th>\n",
              "      <td>Watford</td>\n",
              "      <td>West Ham</td>\n",
              "      <td>A</td>\n",
              "      <td>0.0</td>\n",
              "      <td>4.0</td>\n",
              "      <td>13.0</td>\n",
              "      <td>28.0</td>\n",
              "      <td>21.0</td>\n",
              "      <td>30.0</td>\n",
              "      <td>179.0</td>\n",
              "      <td>228.0</td>\n",
              "      <td>64.0</td>\n",
              "      <td>85.0</td>\n",
              "      <td>31.0</td>\n",
              "      <td>24.0</td>\n",
              "      <td>70.0</td>\n",
              "      <td>98.0</td>\n",
              "    </tr>\n",
              "    <tr>\n",
              "      <th>179</th>\n",
              "      <td>Leicester</td>\n",
              "      <td>Liverpool</td>\n",
              "      <td>H</td>\n",
              "      <td>4.0</td>\n",
              "      <td>10.0</td>\n",
              "      <td>22.0</td>\n",
              "      <td>41.0</td>\n",
              "      <td>30.0</td>\n",
              "      <td>50.0</td>\n",
              "      <td>202.0</td>\n",
              "      <td>348.0</td>\n",
              "      <td>86.0</td>\n",
              "      <td>123.0</td>\n",
              "      <td>33.0</td>\n",
              "      <td>15.0</td>\n",
              "      <td>86.0</td>\n",
              "      <td>141.0</td>\n",
              "    </tr>\n",
              "    <tr>\n",
              "      <th>180</th>\n",
              "      <td>Chelsea</td>\n",
              "      <td>Brighton</td>\n",
              "      <td>D</td>\n",
              "      <td>8.0</td>\n",
              "      <td>5.0</td>\n",
              "      <td>41.0</td>\n",
              "      <td>23.0</td>\n",
              "      <td>42.0</td>\n",
              "      <td>16.0</td>\n",
              "      <td>294.0</td>\n",
              "      <td>206.0</td>\n",
              "      <td>106.0</td>\n",
              "      <td>66.0</td>\n",
              "      <td>13.0</td>\n",
              "      <td>17.0</td>\n",
              "      <td>123.0</td>\n",
              "      <td>89.0</td>\n",
              "    </tr>\n",
              "    <tr>\n",
              "      <th>181</th>\n",
              "      <td>Brentford</td>\n",
              "      <td>Man City</td>\n",
              "      <td>A</td>\n",
              "      <td>4.0</td>\n",
              "      <td>12.0</td>\n",
              "      <td>20.0</td>\n",
              "      <td>47.0</td>\n",
              "      <td>21.0</td>\n",
              "      <td>50.0</td>\n",
              "      <td>196.0</td>\n",
              "      <td>366.0</td>\n",
              "      <td>70.0</td>\n",
              "      <td>139.0</td>\n",
              "      <td>24.0</td>\n",
              "      <td>12.0</td>\n",
              "      <td>70.0</td>\n",
              "      <td>169.0</td>\n",
              "    </tr>\n",
              "    <tr>\n",
              "      <th>182</th>\n",
              "      <td>Man United</td>\n",
              "      <td>Burnley</td>\n",
              "      <td>H</td>\n",
              "      <td>10.0</td>\n",
              "      <td>3.0</td>\n",
              "      <td>28.0</td>\n",
              "      <td>11.0</td>\n",
              "      <td>27.0</td>\n",
              "      <td>14.0</td>\n",
              "      <td>233.0</td>\n",
              "      <td>163.0</td>\n",
              "      <td>84.0</td>\n",
              "      <td>52.0</td>\n",
              "      <td>25.0</td>\n",
              "      <td>21.0</td>\n",
              "      <td>91.0</td>\n",
              "      <td>70.0</td>\n",
              "    </tr>\n",
              "  </tbody>\n",
              "</table>\n",
              "<p>183 rows × 17 columns</p>\n",
              "</div>\n",
              "      <button class=\"colab-df-convert\" onclick=\"convertToInteractive('df-1c21aaea-a6ee-4df5-b75b-93092b4f3ad6')\"\n",
              "              title=\"Convert this dataframe to an interactive table.\"\n",
              "              style=\"display:none;\">\n",
              "        \n",
              "  <svg xmlns=\"http://www.w3.org/2000/svg\" height=\"24px\"viewBox=\"0 0 24 24\"\n",
              "       width=\"24px\">\n",
              "    <path d=\"M0 0h24v24H0V0z\" fill=\"none\"/>\n",
              "    <path d=\"M18.56 5.44l.94 2.06.94-2.06 2.06-.94-2.06-.94-.94-2.06-.94 2.06-2.06.94zm-11 1L8.5 8.5l.94-2.06 2.06-.94-2.06-.94L8.5 2.5l-.94 2.06-2.06.94zm10 10l.94 2.06.94-2.06 2.06-.94-2.06-.94-.94-2.06-.94 2.06-2.06.94z\"/><path d=\"M17.41 7.96l-1.37-1.37c-.4-.4-.92-.59-1.43-.59-.52 0-1.04.2-1.43.59L10.3 9.45l-7.72 7.72c-.78.78-.78 2.05 0 2.83L4 21.41c.39.39.9.59 1.41.59.51 0 1.02-.2 1.41-.59l7.78-7.78 2.81-2.81c.8-.78.8-2.07 0-2.86zM5.41 20L4 18.59l7.72-7.72 1.47 1.35L5.41 20z\"/>\n",
              "  </svg>\n",
              "      </button>\n",
              "      \n",
              "  <style>\n",
              "    .colab-df-container {\n",
              "      display:flex;\n",
              "      flex-wrap:wrap;\n",
              "      gap: 12px;\n",
              "    }\n",
              "\n",
              "    .colab-df-convert {\n",
              "      background-color: #E8F0FE;\n",
              "      border: none;\n",
              "      border-radius: 50%;\n",
              "      cursor: pointer;\n",
              "      display: none;\n",
              "      fill: #1967D2;\n",
              "      height: 32px;\n",
              "      padding: 0 0 0 0;\n",
              "      width: 32px;\n",
              "    }\n",
              "\n",
              "    .colab-df-convert:hover {\n",
              "      background-color: #E2EBFA;\n",
              "      box-shadow: 0px 1px 2px rgba(60, 64, 67, 0.3), 0px 1px 3px 1px rgba(60, 64, 67, 0.15);\n",
              "      fill: #174EA6;\n",
              "    }\n",
              "\n",
              "    [theme=dark] .colab-df-convert {\n",
              "      background-color: #3B4455;\n",
              "      fill: #D2E3FC;\n",
              "    }\n",
              "\n",
              "    [theme=dark] .colab-df-convert:hover {\n",
              "      background-color: #434B5C;\n",
              "      box-shadow: 0px 1px 3px 1px rgba(0, 0, 0, 0.15);\n",
              "      filter: drop-shadow(0px 1px 2px rgba(0, 0, 0, 0.3));\n",
              "      fill: #FFFFFF;\n",
              "    }\n",
              "  </style>\n",
              "\n",
              "      <script>\n",
              "        const buttonEl =\n",
              "          document.querySelector('#df-1c21aaea-a6ee-4df5-b75b-93092b4f3ad6 button.colab-df-convert');\n",
              "        buttonEl.style.display =\n",
              "          google.colab.kernel.accessAllowed ? 'block' : 'none';\n",
              "\n",
              "        async function convertToInteractive(key) {\n",
              "          const element = document.querySelector('#df-1c21aaea-a6ee-4df5-b75b-93092b4f3ad6');\n",
              "          const dataTable =\n",
              "            await google.colab.kernel.invokeFunction('convertToInteractive',\n",
              "                                                     [key], {});\n",
              "          if (!dataTable) return;\n",
              "\n",
              "          const docLinkHtml = 'Like what you see? Visit the ' +\n",
              "            '<a target=\"_blank\" href=https://colab.research.google.com/notebooks/data_table.ipynb>data table notebook</a>'\n",
              "            + ' to learn more about interactive tables.';\n",
              "          element.innerHTML = '';\n",
              "          dataTable['output_type'] = 'display_data';\n",
              "          await google.colab.output.renderOutput(dataTable, element);\n",
              "          const docLink = document.createElement('div');\n",
              "          docLink.innerHTML = docLinkHtml;\n",
              "          element.appendChild(docLink);\n",
              "        }\n",
              "      </script>\n",
              "    </div>\n",
              "  </div>\n",
              "  "
            ],
            "text/plain": [
              "       HomeTeam        AwayTeam FTR    HF  ...   HGC   AGC     HC     AC\n",
              "0     Brentford         Arsenal   H   0.0  ...   0.0   0.0    0.0    0.0\n",
              "1    Man United           Leeds   H   0.0  ...   0.0   0.0    0.0    0.0\n",
              "2       Burnley        Brighton   A   0.0  ...   0.0   0.0    0.0    0.0\n",
              "3       Chelsea  Crystal Palace   H   0.0  ...   0.0   0.0    0.0    0.0\n",
              "4       Everton     Southampton   H   0.0  ...   0.0   0.0    0.0    0.0\n",
              "..          ...             ...  ..   ...  ...   ...   ...    ...    ...\n",
              "178     Watford        West Ham   A   0.0  ...  31.0  24.0   70.0   98.0\n",
              "179   Leicester       Liverpool   H   4.0  ...  33.0  15.0   86.0  141.0\n",
              "180     Chelsea        Brighton   D   8.0  ...  13.0  17.0  123.0   89.0\n",
              "181   Brentford        Man City   A   4.0  ...  24.0  12.0   70.0  169.0\n",
              "182  Man United         Burnley   H  10.0  ...  25.0  21.0   91.0   70.0\n",
              "\n",
              "[183 rows x 17 columns]"
            ]
          },
          "metadata": {},
          "execution_count": 21
        }
      ]
    },
    {
      "cell_type": "code",
      "source": [
        "cat = pipeline.transformers_[0][1].categories_\n",
        "for i in range(len(cat)):\n",
        "  cat[i] = np.append(cat[i], list(set(df3.HomeTeam.unique())-set(cat[i])))\n",
        "\n",
        "pipeline.transformers_[0][1].categories_ = cat"
      ],
      "metadata": {
        "id": "n05yeXuY1sNO"
      },
      "execution_count": null,
      "outputs": []
    },
    {
      "cell_type": "code",
      "source": [
        "X2 = pipeline.transform(df3)\n",
        "\n",
        "y2 = enc_ftr.transform(df3[['FTR']])"
      ],
      "metadata": {
        "id": "fBXgIEVY1sNQ"
      },
      "execution_count": null,
      "outputs": []
    },
    {
      "cell_type": "code",
      "source": [
        "hist2 = model.fit(X2, y2, epochs=20)"
      ],
      "metadata": {
        "colab": {
          "base_uri": "https://localhost:8080/"
        },
        "id": "gRmhUGl4AmS1",
        "outputId": "cd1824be-7324-4f9d-f341-f82b9280c718"
      },
      "execution_count": null,
      "outputs": [
        {
          "output_type": "stream",
          "name": "stdout",
          "text": [
            "Epoch 1/20\n",
            "6/6 [==============================] - 0s 3ms/step - loss: 1.1582 - accuracy: 0.4481\n",
            "Epoch 2/20\n",
            "6/6 [==============================] - 0s 3ms/step - loss: 1.0603 - accuracy: 0.4863\n",
            "Epoch 3/20\n",
            "6/6 [==============================] - 0s 3ms/step - loss: 1.0128 - accuracy: 0.5137\n",
            "Epoch 4/20\n",
            "6/6 [==============================] - 0s 3ms/step - loss: 0.9910 - accuracy: 0.5191\n",
            "Epoch 5/20\n",
            "6/6 [==============================] - 0s 3ms/step - loss: 0.9664 - accuracy: 0.5301\n",
            "Epoch 6/20\n",
            "6/6 [==============================] - 0s 3ms/step - loss: 0.9267 - accuracy: 0.5301\n",
            "Epoch 7/20\n",
            "6/6 [==============================] - 0s 3ms/step - loss: 0.9036 - accuracy: 0.5574\n",
            "Epoch 8/20\n",
            "6/6 [==============================] - 0s 4ms/step - loss: 0.8916 - accuracy: 0.5628\n",
            "Epoch 9/20\n",
            "6/6 [==============================] - 0s 3ms/step - loss: 0.8733 - accuracy: 0.6066\n",
            "Epoch 10/20\n",
            "6/6 [==============================] - 0s 3ms/step - loss: 0.8542 - accuracy: 0.6175\n",
            "Epoch 11/20\n",
            "6/6 [==============================] - 0s 3ms/step - loss: 0.8585 - accuracy: 0.6230\n",
            "Epoch 12/20\n",
            "6/6 [==============================] - 0s 3ms/step - loss: 0.8224 - accuracy: 0.6393\n",
            "Epoch 13/20\n",
            "6/6 [==============================] - 0s 3ms/step - loss: 0.8177 - accuracy: 0.6230\n",
            "Epoch 14/20\n",
            "6/6 [==============================] - 0s 3ms/step - loss: 0.8069 - accuracy: 0.6503\n",
            "Epoch 15/20\n",
            "6/6 [==============================] - 0s 3ms/step - loss: 0.7992 - accuracy: 0.6721\n",
            "Epoch 16/20\n",
            "6/6 [==============================] - 0s 4ms/step - loss: 0.7783 - accuracy: 0.6776\n",
            "Epoch 17/20\n",
            "6/6 [==============================] - 0s 4ms/step - loss: 0.7543 - accuracy: 0.6667\n",
            "Epoch 18/20\n",
            "6/6 [==============================] - 0s 3ms/step - loss: 0.7626 - accuracy: 0.6667\n",
            "Epoch 19/20\n",
            "6/6 [==============================] - 0s 3ms/step - loss: 0.7682 - accuracy: 0.6612\n",
            "Epoch 20/20\n",
            "6/6 [==============================] - 0s 3ms/step - loss: 0.7293 - accuracy: 0.7049\n"
          ]
        }
      ]
    },
    {
      "cell_type": "code",
      "source": [
        "def get_stats(ht, at, df_in=epl22[usable]): #ht, at for hometeam and awayteam respectively\n",
        "  df = pd.DataFrame([{'HomeTeam':ht, 'AwayTeam':at}])\n",
        "  epl = df_in\n",
        "  stats_dict = {}\n",
        "  for team in [ht, at]:\n",
        "    team_data = pd.concat([epl[epl.HomeTeam == team], epl[epl.AwayTeam == team]]).sort_index().reset_index()\n",
        "    team_stats = {}\n",
        "    team_data['Points'] = team_data.apply(lambda x: form_guide(x, team), axis =1)\n",
        "    team_stats['Form'] = team_data['Points'].tail(4).sum()\n",
        "    team_stats['Total_Points'] = team_data['Points'].sum()\n",
        "\n",
        "    team_stats['Shots'] = team_data.apply(lambda x: shots(x, team), axis=1).sum()\n",
        "    team_stats['Shots_On_Target'] = team_data.apply(lambda x: shots_ot(x, team), axis=1).sum()\n",
        "\n",
        "    team_stats['Corners'] = team_data.apply(lambda x: corners(x, team), axis=1).sum()\n",
        "\n",
        "    team_stats['Goals_Scored'] = team_data.apply(lambda x: goals_sc(x, team), axis=1).sum()\n",
        "\n",
        "    team_stats['Goals_Conceded'] = team_data.apply(lambda x: goals_con(x, team), axis=1).sum()\n",
        "    stats_dict[team] = team_stats\n",
        "  \n",
        "  for team, team_stats in stats_dict.items():\n",
        "    if team == ht:\n",
        "      home = team_stats\n",
        "    elif team == at:\n",
        "      away = team_stats\n",
        "\n",
        "  df['HF'] = home['Form']\n",
        "  df['AF'] = away['Form']\n",
        "\n",
        "  df['HP'] = home['Total_Points']\n",
        "  df['AP'] = away['Total_Points']\n",
        "\n",
        "  df['HGS'] = home['Goals_Scored']\n",
        "  df['AGS'] = away['Goals_Scored']\n",
        "\n",
        "  df['HS'] = home['Shots']\n",
        "  df['AS'] = away['Shots']\n",
        "\n",
        "  df['HST'] = home['Shots_On_Target']\n",
        "  df['AST'] = away['Shots_On_Target']\n",
        "\n",
        "  df['HGC'] = home['Goals_Conceded']\n",
        "  df['AGC'] = away['Goals_Conceded']\n",
        "\n",
        "  df['HC'] = home['Corners']\n",
        "  df['AC'] = away['Corners']\n",
        "\n",
        "  return df"
      ],
      "metadata": {
        "id": "XwR6a9VmA20g"
      },
      "execution_count": null,
      "outputs": []
    },
    {
      "cell_type": "code",
      "source": [
        "def predict_match(ht, at):\n",
        "  df_temp = get_stats(ht, at)\n",
        "  array = pipeline.transform(df_temp)\n",
        "  '''\n",
        "  numerical_cols = [cname for cname in df_temp.columns if df_temp[cname].dtype in ['Int64', 'float64']]\n",
        "  df_temp[numerical_cols] = scal.transform(df_temp[numerical_cols])\n",
        "  df_temp['HomeTeam'] = enc.transform(df_temp[['HomeTeam']])\n",
        "  df_temp.AwayTeam = enc.transform(df_temp[['AwayTeam']])\n",
        "  array = np.asarray(df_temp).astype(np.float32)\n",
        "  '''\n",
        "  y_proba = model.predict(array)\n",
        "  result = enc_ftr.inverse_transform([y_proba.argmax(axis=1)])\n",
        "  return (result[0][0], y_proba)"
      ],
      "metadata": {
        "id": "Sgl0T7dJF1cc"
      },
      "execution_count": null,
      "outputs": []
    },
    {
      "cell_type": "code",
      "source": [
        "pl1, pl2, pl3 =map(clean_data, [epl20[usable], epl21[usable], epl22[usable]])\n",
        "pl = pd.concat([pl1, pl2, pl3])\n",
        "X_pl = pipeline.transform(pl)\n",
        "\n",
        "y_pl = enc_ftr.transform(pl[['FTR']])\n",
        "svc_pl = SVC(C=0.1)\n",
        "svc_pl.fit(X_pl, y_pl)\n",
        "\n",
        "def predict_match_ml(ht, at):\n",
        "  df_temp = get_stats(ht, at)\n",
        "  df_temp = pipeline.transform(df_temp)\n",
        "  y_pred = svc_pl.predict(df_temp)\n",
        "  result = enc_ftr.inverse_transform([y_pred])\n",
        "  return result"
      ],
      "metadata": {
        "id": "Rr-tgXZguzSd",
        "colab": {
          "base_uri": "https://localhost:8080/"
        },
        "outputId": "bd00940f-05b4-4f4f-ba59-041c6e6ccc46"
      },
      "execution_count": null,
      "outputs": [
        {
          "output_type": "stream",
          "name": "stderr",
          "text": [
            "/usr/local/lib/python3.7/dist-packages/pandas/core/indexing.py:1596: SettingWithCopyWarning: \n",
            "A value is trying to be set on a copy of a slice from a DataFrame.\n",
            "Try using .loc[row_indexer,col_indexer] = value instead\n",
            "\n",
            "See the caveats in the documentation: https://pandas.pydata.org/pandas-docs/stable/user_guide/indexing.html#returning-a-view-versus-a-copy\n",
            "  self.obj[key] = _infer_fill_value(value)\n",
            "/usr/local/lib/python3.7/dist-packages/pandas/core/indexing.py:1743: SettingWithCopyWarning: \n",
            "A value is trying to be set on a copy of a slice from a DataFrame.\n",
            "Try using .loc[row_indexer,col_indexer] = value instead\n",
            "\n",
            "See the caveats in the documentation: https://pandas.pydata.org/pandas-docs/stable/user_guide/indexing.html#returning-a-view-versus-a-copy\n",
            "  isetter(ilocs[0], value)\n",
            "/usr/local/lib/python3.7/dist-packages/sklearn/utils/validation.py:985: DataConversionWarning: A column-vector y was passed when a 1d array was expected. Please change the shape of y to (n_samples, ), for example using ravel().\n",
            "  y = column_or_1d(y, warn=True)\n"
          ]
        }
      ]
    },
    {
      "cell_type": "code",
      "source": [
        "predict_match('Chelsea', 'Liverpool')"
      ],
      "metadata": {
        "colab": {
          "base_uri": "https://localhost:8080/"
        },
        "id": "z_Ntox8u37QZ",
        "outputId": "4d382b7b-e479-4651-990b-02c24ed6a293"
      },
      "execution_count": null,
      "outputs": [
        {
          "output_type": "execute_result",
          "data": {
            "text/plain": [
              "('H', array([[0.2936663 , 0.09959143, 0.60674226]], dtype=float32))"
            ]
          },
          "metadata": {},
          "execution_count": 38
        }
      ]
    },
    {
      "cell_type": "code",
      "source": [
        "predict_match_ml('Chelsea', 'Liverpool')"
      ],
      "metadata": {
        "colab": {
          "base_uri": "https://localhost:8080/"
        },
        "id": "fz6bz9IssAAn",
        "outputId": "b872fdf0-5a3e-4cf1-8d82-3f4fb861c439"
      },
      "execution_count": null,
      "outputs": [
        {
          "output_type": "execute_result",
          "data": {
            "text/plain": [
              "array([['H']], dtype=object)"
            ]
          },
          "metadata": {},
          "execution_count": 37
        }
      ]
    },
    {
      "cell_type": "code",
      "source": [
        "pipeline.transformers_[0][1].categories_[0]"
      ],
      "metadata": {
        "colab": {
          "base_uri": "https://localhost:8080/"
        },
        "id": "91MzPoNPqmJV",
        "outputId": "17f37109-6b18-4a85-e996-6be18bda7867"
      },
      "execution_count": null,
      "outputs": [
        {
          "output_type": "execute_result",
          "data": {
            "text/plain": [
              "array(['Arsenal', 'Aston Villa', 'Bournemouth', 'Brighton', 'Burnley',\n",
              "       'Chelsea', 'Crystal Palace', 'Everton', 'Leicester', 'Liverpool',\n",
              "       'Man City', 'Man United', 'Newcastle', 'Norwich',\n",
              "       'Sheffield United', 'Southampton', 'Tottenham', 'Watford',\n",
              "       'West Ham', 'Wolves', 'Fulham', 'West Brom', 'Leeds', 'Brentford'],\n",
              "      dtype=object)"
            ]
          },
          "metadata": {},
          "execution_count": 30
        }
      ]
    }
  ]
}